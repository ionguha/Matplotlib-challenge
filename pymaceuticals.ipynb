{
 "cells": [
  {
   "cell_type": "markdown",
   "metadata": {},
   "source": [
    "![Pharmacy wallpaper](https://i.pinimg.com/originals/9f/08/d5/9f08d5b07190918f066c318a31c01f66.jpg)\n",
    "\n",
    "image credit:https://www.pinterest.com/"
   ]
  },
  {
   "cell_type": "markdown",
   "metadata": {},
   "source": [
    "# Pymaceuticals"
   ]
  },
  {
   "cell_type": "markdown",
   "metadata": {},
   "source": [
    "<span style=\"font-family:Papyrus; font-size:2.0em;\">**Observations and Insights**</span>\n",
    " 1. Dataset has almost equal number of <span style=\"color:green\">**male (125)**</span> and <span style=\"color:green\">**female (124) mice**</span>\n",
    " 2. Topmost treatment regimens based on mean decrease in tumor volume are:\n",
    "    * <span style=\"color:green\">**Ramicane, Capomulin, Ceftamin and Infubinol**</span>\n",
    " 3. Average final tumor volume was lowest for **Ramicane** and **Capomulin** had the least variability\n",
    " 4. <span style=\"color:green\">**Strong positive correlation**</span> between average final tumor volume and average mouse weight"
   ]
  },
  {
   "cell_type": "markdown",
   "metadata": {},
   "source": [
    "## Data Analysis"
   ]
  },
  {
   "cell_type": "code",
   "execution_count": 1,
   "metadata": {},
   "outputs": [
    {
     "name": "stdout",
     "output_type": "stream",
     "text": [
      "All neccessary libraries imported\n"
     ]
    }
   ],
   "source": [
    "# Import the neccessary libraries\n",
    "import matplotlib.pyplot as plt\n",
    "import pandas as pd\n",
    "import scipy.stats as st\n",
    "print(\"All neccessary libraries imported\")"
   ]
  },
  {
   "cell_type": "code",
   "execution_count": 2,
   "metadata": {},
   "outputs": [],
   "source": [
    "# Data resources for mouse\n",
    "mouse_metadata = \"data/Mouse_metadata.csv\"\n",
    "# Data resources for results\n",
    "study_results = \"data/Study_results.csv\""
   ]
  },
  {
   "cell_type": "code",
   "execution_count": 3,
   "metadata": {},
   "outputs": [
    {
     "name": "stdout",
     "output_type": "stream",
     "text": [
      "\u001b[96m\u001b[1mThe shape of the df_mouse dataframe is (249, 5):\u001b[0m\n"
     ]
    },
    {
     "data": {
      "text/html": [
       "<div>\n",
       "<style scoped>\n",
       "    .dataframe tbody tr th:only-of-type {\n",
       "        vertical-align: middle;\n",
       "    }\n",
       "\n",
       "    .dataframe tbody tr th {\n",
       "        vertical-align: top;\n",
       "    }\n",
       "\n",
       "    .dataframe thead th {\n",
       "        text-align: right;\n",
       "    }\n",
       "</style>\n",
       "<table border=\"1\" class=\"dataframe\">\n",
       "  <thead>\n",
       "    <tr style=\"text-align: right;\">\n",
       "      <th></th>\n",
       "      <th>Mouse ID</th>\n",
       "      <th>Drug Regimen</th>\n",
       "      <th>Sex</th>\n",
       "      <th>Age_months</th>\n",
       "      <th>Weight (g)</th>\n",
       "    </tr>\n",
       "  </thead>\n",
       "  <tbody>\n",
       "    <tr>\n",
       "      <th>0</th>\n",
       "      <td>k403</td>\n",
       "      <td>Ramicane</td>\n",
       "      <td>Male</td>\n",
       "      <td>21</td>\n",
       "      <td>16</td>\n",
       "    </tr>\n",
       "    <tr>\n",
       "      <th>1</th>\n",
       "      <td>s185</td>\n",
       "      <td>Capomulin</td>\n",
       "      <td>Female</td>\n",
       "      <td>3</td>\n",
       "      <td>17</td>\n",
       "    </tr>\n",
       "    <tr>\n",
       "      <th>2</th>\n",
       "      <td>x401</td>\n",
       "      <td>Capomulin</td>\n",
       "      <td>Female</td>\n",
       "      <td>16</td>\n",
       "      <td>15</td>\n",
       "    </tr>\n",
       "    <tr>\n",
       "      <th>3</th>\n",
       "      <td>m601</td>\n",
       "      <td>Capomulin</td>\n",
       "      <td>Male</td>\n",
       "      <td>22</td>\n",
       "      <td>17</td>\n",
       "    </tr>\n",
       "    <tr>\n",
       "      <th>4</th>\n",
       "      <td>g791</td>\n",
       "      <td>Ramicane</td>\n",
       "      <td>Male</td>\n",
       "      <td>11</td>\n",
       "      <td>16</td>\n",
       "    </tr>\n",
       "  </tbody>\n",
       "</table>\n",
       "</div>"
      ],
      "text/plain": [
       "  Mouse ID Drug Regimen     Sex  Age_months  Weight (g)\n",
       "0     k403     Ramicane    Male          21          16\n",
       "1     s185    Capomulin  Female           3          17\n",
       "2     x401    Capomulin  Female          16          15\n",
       "3     m601    Capomulin    Male          22          17\n",
       "4     g791     Ramicane    Male          11          16"
      ]
     },
     "execution_count": 3,
     "metadata": {},
     "output_type": "execute_result"
    }
   ],
   "source": [
    "# Read the mouse data into a dataframe\n",
    "df_mouse = pd.read_csv(mouse_metadata)\n",
    "# Let's see the shape and the first 5 rows of the dataframe\n",
    "print('\\033[96m'+'\\033[1m'+\"The shape of the {} dataframe is {}:\" .format(\"df_mouse\",df_mouse.shape)+'\\033[0m')\n",
    "df_mouse.head()"
   ]
  },
  {
   "cell_type": "code",
   "execution_count": 4,
   "metadata": {},
   "outputs": [
    {
     "data": {
      "text/plain": [
       "array(['Mouse ID', 'Drug Regimen', 'Sex', 'Age_months', 'Weight (g)'],\n",
       "      dtype=object)"
      ]
     },
     "execution_count": 4,
     "metadata": {},
     "output_type": "execute_result"
    }
   ],
   "source": [
    "# Let's get the list of column headers of df_mouse\n",
    "df_mouse.columns.values"
   ]
  },
  {
   "cell_type": "code",
   "execution_count": 5,
   "metadata": {},
   "outputs": [
    {
     "name": "stdout",
     "output_type": "stream",
     "text": [
      "<class 'pandas.core.frame.DataFrame'>\n",
      "RangeIndex: 249 entries, 0 to 248\n",
      "Data columns (total 5 columns):\n",
      " #   Column        Non-Null Count  Dtype \n",
      "---  ------        --------------  ----- \n",
      " 0   Mouse ID      249 non-null    object\n",
      " 1   Drug Regimen  249 non-null    object\n",
      " 2   Sex           249 non-null    object\n",
      " 3   Age_months    249 non-null    int64 \n",
      " 4   Weight (g)    249 non-null    int64 \n",
      "dtypes: int64(2), object(3)\n",
      "memory usage: 9.9+ KB\n"
     ]
    }
   ],
   "source": [
    "# Basic information of the df_mouse dataframe by the info() method\n",
    "df_mouse.info()"
   ]
  },
  {
   "cell_type": "markdown",
   "metadata": {},
   "source": [
    "#### Mouse ID, Drug Regimen, Sex are strings while Age_months, Weight (g) are integers"
   ]
  },
  {
   "cell_type": "code",
   "execution_count": 6,
   "metadata": {},
   "outputs": [
    {
     "name": "stdout",
     "output_type": "stream",
     "text": [
      "\u001b[96m\u001b[1mThe shape of the df_results dataframe is (1893, 4):\u001b[0m\n"
     ]
    },
    {
     "data": {
      "text/html": [
       "<div>\n",
       "<style scoped>\n",
       "    .dataframe tbody tr th:only-of-type {\n",
       "        vertical-align: middle;\n",
       "    }\n",
       "\n",
       "    .dataframe tbody tr th {\n",
       "        vertical-align: top;\n",
       "    }\n",
       "\n",
       "    .dataframe thead th {\n",
       "        text-align: right;\n",
       "    }\n",
       "</style>\n",
       "<table border=\"1\" class=\"dataframe\">\n",
       "  <thead>\n",
       "    <tr style=\"text-align: right;\">\n",
       "      <th></th>\n",
       "      <th>Mouse ID</th>\n",
       "      <th>Timepoint</th>\n",
       "      <th>Tumor Volume (mm3)</th>\n",
       "      <th>Metastatic Sites</th>\n",
       "    </tr>\n",
       "  </thead>\n",
       "  <tbody>\n",
       "    <tr>\n",
       "      <th>0</th>\n",
       "      <td>b128</td>\n",
       "      <td>0</td>\n",
       "      <td>45.0</td>\n",
       "      <td>0</td>\n",
       "    </tr>\n",
       "    <tr>\n",
       "      <th>1</th>\n",
       "      <td>f932</td>\n",
       "      <td>0</td>\n",
       "      <td>45.0</td>\n",
       "      <td>0</td>\n",
       "    </tr>\n",
       "    <tr>\n",
       "      <th>2</th>\n",
       "      <td>g107</td>\n",
       "      <td>0</td>\n",
       "      <td>45.0</td>\n",
       "      <td>0</td>\n",
       "    </tr>\n",
       "    <tr>\n",
       "      <th>3</th>\n",
       "      <td>a457</td>\n",
       "      <td>0</td>\n",
       "      <td>45.0</td>\n",
       "      <td>0</td>\n",
       "    </tr>\n",
       "    <tr>\n",
       "      <th>4</th>\n",
       "      <td>c819</td>\n",
       "      <td>0</td>\n",
       "      <td>45.0</td>\n",
       "      <td>0</td>\n",
       "    </tr>\n",
       "  </tbody>\n",
       "</table>\n",
       "</div>"
      ],
      "text/plain": [
       "  Mouse ID  Timepoint  Tumor Volume (mm3)  Metastatic Sites\n",
       "0     b128          0                45.0                 0\n",
       "1     f932          0                45.0                 0\n",
       "2     g107          0                45.0                 0\n",
       "3     a457          0                45.0                 0\n",
       "4     c819          0                45.0                 0"
      ]
     },
     "execution_count": 6,
     "metadata": {},
     "output_type": "execute_result"
    }
   ],
   "source": [
    "# Read the study_results into a dataframe\n",
    "df_results = pd.read_csv(study_results)\n",
    "# Let's see the shape and the first 5 rows of the dataframe\n",
    "print('\\033[96m'+'\\033[1m'+\"The shape of the {} dataframe is {}:\" .format(\"df_results\",df_results.shape)+'\\033[0m')\n",
    "df_results.head()"
   ]
  },
  {
   "cell_type": "code",
   "execution_count": 7,
   "metadata": {},
   "outputs": [
    {
     "data": {
      "text/plain": [
       "array(['Mouse ID', 'Timepoint', 'Tumor Volume (mm3)', 'Metastatic Sites'],\n",
       "      dtype=object)"
      ]
     },
     "execution_count": 7,
     "metadata": {},
     "output_type": "execute_result"
    }
   ],
   "source": [
    "# Let's get the list of column headers of df_results\n",
    "df_results.columns.values"
   ]
  },
  {
   "cell_type": "code",
   "execution_count": 8,
   "metadata": {},
   "outputs": [
    {
     "name": "stdout",
     "output_type": "stream",
     "text": [
      "<class 'pandas.core.frame.DataFrame'>\n",
      "RangeIndex: 1893 entries, 0 to 1892\n",
      "Data columns (total 4 columns):\n",
      " #   Column              Non-Null Count  Dtype  \n",
      "---  ------              --------------  -----  \n",
      " 0   Mouse ID            1893 non-null   object \n",
      " 1   Timepoint           1893 non-null   int64  \n",
      " 2   Tumor Volume (mm3)  1893 non-null   float64\n",
      " 3   Metastatic Sites    1893 non-null   int64  \n",
      "dtypes: float64(1), int64(2), object(1)\n",
      "memory usage: 59.3+ KB\n"
     ]
    }
   ],
   "source": [
    "# Basic information of the df_results dataframe by the info() method\n",
    "df_results.info()"
   ]
  },
  {
   "cell_type": "markdown",
   "metadata": {},
   "source": [
    "#### Mouse ID is string, Timepoint & Metastatic Sites are integers and Tumor Volume (mm3) is float"
   ]
  },
  {
   "cell_type": "markdown",
   "metadata": {},
   "source": [
    "### Mouse ID column can be used as key for joining the datasets"
   ]
  },
  {
   "cell_type": "code",
   "execution_count": 9,
   "metadata": {},
   "outputs": [
    {
     "name": "stdout",
     "output_type": "stream",
     "text": [
      "\u001b[96m\u001b[1mThe shape of the df_combined dataframe is (1893, 8):\u001b[0m\n"
     ]
    },
    {
     "data": {
      "text/html": [
       "<div>\n",
       "<style scoped>\n",
       "    .dataframe tbody tr th:only-of-type {\n",
       "        vertical-align: middle;\n",
       "    }\n",
       "\n",
       "    .dataframe tbody tr th {\n",
       "        vertical-align: top;\n",
       "    }\n",
       "\n",
       "    .dataframe thead th {\n",
       "        text-align: right;\n",
       "    }\n",
       "</style>\n",
       "<table border=\"1\" class=\"dataframe\">\n",
       "  <thead>\n",
       "    <tr style=\"text-align: right;\">\n",
       "      <th></th>\n",
       "      <th>Mouse ID</th>\n",
       "      <th>Timepoint</th>\n",
       "      <th>Tumor Volume (mm3)</th>\n",
       "      <th>Metastatic Sites</th>\n",
       "      <th>Drug Regimen</th>\n",
       "      <th>Sex</th>\n",
       "      <th>Age_months</th>\n",
       "      <th>Weight (g)</th>\n",
       "    </tr>\n",
       "  </thead>\n",
       "  <tbody>\n",
       "    <tr>\n",
       "      <th>0</th>\n",
       "      <td>b128</td>\n",
       "      <td>0</td>\n",
       "      <td>45.000000</td>\n",
       "      <td>0</td>\n",
       "      <td>Capomulin</td>\n",
       "      <td>Female</td>\n",
       "      <td>9</td>\n",
       "      <td>22</td>\n",
       "    </tr>\n",
       "    <tr>\n",
       "      <th>1</th>\n",
       "      <td>b128</td>\n",
       "      <td>5</td>\n",
       "      <td>45.651331</td>\n",
       "      <td>0</td>\n",
       "      <td>Capomulin</td>\n",
       "      <td>Female</td>\n",
       "      <td>9</td>\n",
       "      <td>22</td>\n",
       "    </tr>\n",
       "    <tr>\n",
       "      <th>2</th>\n",
       "      <td>b128</td>\n",
       "      <td>10</td>\n",
       "      <td>43.270852</td>\n",
       "      <td>0</td>\n",
       "      <td>Capomulin</td>\n",
       "      <td>Female</td>\n",
       "      <td>9</td>\n",
       "      <td>22</td>\n",
       "    </tr>\n",
       "    <tr>\n",
       "      <th>3</th>\n",
       "      <td>b128</td>\n",
       "      <td>15</td>\n",
       "      <td>43.784893</td>\n",
       "      <td>0</td>\n",
       "      <td>Capomulin</td>\n",
       "      <td>Female</td>\n",
       "      <td>9</td>\n",
       "      <td>22</td>\n",
       "    </tr>\n",
       "    <tr>\n",
       "      <th>4</th>\n",
       "      <td>b128</td>\n",
       "      <td>20</td>\n",
       "      <td>42.731552</td>\n",
       "      <td>0</td>\n",
       "      <td>Capomulin</td>\n",
       "      <td>Female</td>\n",
       "      <td>9</td>\n",
       "      <td>22</td>\n",
       "    </tr>\n",
       "  </tbody>\n",
       "</table>\n",
       "</div>"
      ],
      "text/plain": [
       "  Mouse ID  Timepoint  Tumor Volume (mm3)  Metastatic Sites Drug Regimen  \\\n",
       "0     b128          0           45.000000                 0    Capomulin   \n",
       "1     b128          5           45.651331                 0    Capomulin   \n",
       "2     b128         10           43.270852                 0    Capomulin   \n",
       "3     b128         15           43.784893                 0    Capomulin   \n",
       "4     b128         20           42.731552                 0    Capomulin   \n",
       "\n",
       "      Sex  Age_months  Weight (g)  \n",
       "0  Female           9          22  \n",
       "1  Female           9          22  \n",
       "2  Female           9          22  \n",
       "3  Female           9          22  \n",
       "4  Female           9          22  "
      ]
     },
     "execution_count": 9,
     "metadata": {},
     "output_type": "execute_result"
    }
   ],
   "source": [
    "# Combine the data into a single dataset\n",
    "df_combined = pd.merge(df_results, df_mouse, how=\"outer\", on=\"Mouse ID\")\n",
    "print('\\033[96m'+'\\033[1m'+\"The shape of the {} dataframe is {}:\" .format(\"df_combined\",df_combined.shape)+'\\033[0m')\n",
    "df_combined.head()"
   ]
  },
  {
   "cell_type": "markdown",
   "metadata": {},
   "source": [
    "### Let's explore the combined dataframe"
   ]
  },
  {
   "cell_type": "code",
   "execution_count": 10,
   "metadata": {},
   "outputs": [
    {
     "name": "stdout",
     "output_type": "stream",
     "text": [
      "['Mouse ID', 'Timepoint', 'Tumor Volume (mm3)', 'Metastatic Sites', 'Drug Regimen', 'Sex', 'Age_months', 'Weight (g)']\n"
     ]
    }
   ],
   "source": [
    "# Let's see the column names in the dataframe\n",
    "print(df_combined.columns.tolist())"
   ]
  },
  {
   "cell_type": "code",
   "execution_count": 11,
   "metadata": {},
   "outputs": [
    {
     "name": "stdout",
     "output_type": "stream",
     "text": [
      "Mouse ID              0\n",
      "Timepoint             0\n",
      "Tumor Volume (mm3)    0\n",
      "Metastatic Sites      0\n",
      "Drug Regimen          0\n",
      "Sex                   0\n",
      "Age_months            0\n",
      "Weight (g)            0\n",
      "dtype: int64\n"
     ]
    }
   ],
   "source": [
    "# Let's see how many null objects we have in the dataframe\n",
    "print(df_combined.isnull().sum())"
   ]
  },
  {
   "cell_type": "markdown",
   "metadata": {},
   "source": [
    "### Let's look for missing data in the combined dataframe"
   ]
  },
  {
   "cell_type": "code",
   "execution_count": 12,
   "metadata": {},
   "outputs": [
    {
     "name": "stdout",
     "output_type": "stream",
     "text": [
      "Missing Data Count: False    1893\n",
      "Name: Mouse ID, dtype: int64\n",
      "Missing Data Count: False    1893\n",
      "Name: Timepoint, dtype: int64\n",
      "Missing Data Count: False    1893\n",
      "Name: Tumor Volume (mm3), dtype: int64\n",
      "Missing Data Count: False    1893\n",
      "Name: Metastatic Sites, dtype: int64\n",
      "Missing Data Count: False    1893\n",
      "Name: Drug Regimen, dtype: int64\n",
      "Missing Data Count: False    1893\n",
      "Name: Sex, dtype: int64\n",
      "Missing Data Count: False    1893\n",
      "Name: Age_months, dtype: int64\n",
      "Missing Data Count: False    1893\n",
      "Name: Weight (g), dtype: int64\n"
     ]
    }
   ],
   "source": [
    "# Let's check for missing data\n",
    "missing_data = df_combined.isnull()\n",
    "# Let's count the number of missing data (if any)\n",
    "for column in missing_data.columns.values.tolist():\n",
    "    print(\"Missing Data Count:\",missing_data[column].value_counts())"
   ]
  },
  {
   "cell_type": "markdown",
   "metadata": {},
   "source": [
    "### The combined dataframe has <span style=\"color:blue\">**no missing data or null values**</span>"
   ]
  },
  {
   "cell_type": "markdown",
   "metadata": {},
   "source": [
    "## Generate a summary statistics table of mean, median, variance, standard deviation, and SEM of the tumor volume for each regimen"
   ]
  },
  {
   "cell_type": "code",
   "execution_count": 13,
   "metadata": {},
   "outputs": [
    {
     "name": "stdout",
     "output_type": "stream",
     "text": [
      "['Capomulin', 'Ketapril', 'Naftisol', 'Infubinol', 'Stelasyn', 'Ramicane', 'Propriva', 'Zoniferol', 'Placebo', 'Ceftamin']\n"
     ]
    }
   ],
   "source": [
    "# Let's see the unique drug regimen in the DataFrame\n",
    "print(df_combined[\"Drug Regimen\"].unique().tolist())"
   ]
  },
  {
   "cell_type": "markdown",
   "metadata": {},
   "source": [
    "### There are 10 drugs tested in this study. Let's see how many times each drug regimen was applied:"
   ]
  },
  {
   "cell_type": "code",
   "execution_count": 14,
   "metadata": {},
   "outputs": [
    {
     "name": "stdout",
     "output_type": "stream",
     "text": [
      "\u001b[96m\u001b[1mMinimum Count:\n",
      "   Mouse ID  Count\n",
      "0     n482      1\n",
      "1     f932      1\n",
      "2     x336      1\n",
      "3     t573      1\n",
      "4     u153      1\u001b[0m\n",
      "\u001b[95m\u001b[1mMaximum Count:\n",
      "     Mouse ID  Count\n",
      "244     k862     10\n",
      "245     k894     10\n",
      "246     l471     10\n",
      "247     l661     10\n",
      "248     g989     13\u001b[0m\n"
     ]
    }
   ],
   "source": [
    "# Let's groupby Mouse ID column in the Dataframe to count treatment points for each mouse\n",
    "grouped_mice = df_combined[\"Mouse ID\"].groupby(df_combined[\"Mouse ID\"]) # Create a GroupBy object\n",
    "# Let's count the number of times each mice appears in the combined dataframe\n",
    "mice_count = grouped_mice.count().to_frame(\"Count\")\n",
    "# Sorting the dataframe from lowest to highest\n",
    "mice_count_sorted = mice_count.sort_values(by=\"Count\",ascending=True)\n",
    "# Let's reset index in the new dataframe\n",
    "mice_count_sorted.reset_index(drop = False, inplace=True)\n",
    "print('\\033[96m'+'\\033[1m'+\"Minimum Count:\\n {}\" .format(mice_count_sorted.head())+'\\033[0m')\n",
    "print('\\033[95m'+'\\033[1m'+\"Maximum Count:\\n {}\" .format(mice_count_sorted.tail())+'\\033[0m')"
   ]
  },
  {
   "cell_type": "markdown",
   "metadata": {},
   "source": [
    "### Conclusion: Number of times a drug regimen is applied varies from 13 to 1 in this study"
   ]
  },
  {
   "cell_type": "markdown",
   "metadata": {},
   "source": [
    "## Statistics Table of the dataframe with all mice samples"
   ]
  },
  {
   "cell_type": "code",
   "execution_count": 15,
   "metadata": {},
   "outputs": [
    {
     "name": "stdout",
     "output_type": "stream",
     "text": [
      "\u001b[96m\u001b[1mThe shape of the df_statistics dataframe is: (10, 5)\u001b[0m\n"
     ]
    },
    {
     "data": {
      "text/html": [
       "<div>\n",
       "<style scoped>\n",
       "    .dataframe tbody tr th:only-of-type {\n",
       "        vertical-align: middle;\n",
       "    }\n",
       "\n",
       "    .dataframe tbody tr th {\n",
       "        vertical-align: top;\n",
       "    }\n",
       "\n",
       "    .dataframe thead th {\n",
       "        text-align: right;\n",
       "    }\n",
       "</style>\n",
       "<table border=\"1\" class=\"dataframe\">\n",
       "  <thead>\n",
       "    <tr style=\"text-align: right;\">\n",
       "      <th></th>\n",
       "      <th>Mean</th>\n",
       "      <th>Median</th>\n",
       "      <th>Variance</th>\n",
       "      <th>Std_dev</th>\n",
       "      <th>SEM</th>\n",
       "    </tr>\n",
       "    <tr>\n",
       "      <th>Drug Regimen</th>\n",
       "      <th></th>\n",
       "      <th></th>\n",
       "      <th></th>\n",
       "      <th></th>\n",
       "      <th></th>\n",
       "    </tr>\n",
       "  </thead>\n",
       "  <tbody>\n",
       "    <tr>\n",
       "      <th>Capomulin</th>\n",
       "      <td>40.68</td>\n",
       "      <td>41.56</td>\n",
       "      <td>24.95</td>\n",
       "      <td>4.99</td>\n",
       "      <td>0.33</td>\n",
       "    </tr>\n",
       "    <tr>\n",
       "      <th>Ceftamin</th>\n",
       "      <td>52.59</td>\n",
       "      <td>51.78</td>\n",
       "      <td>39.29</td>\n",
       "      <td>6.27</td>\n",
       "      <td>0.47</td>\n",
       "    </tr>\n",
       "    <tr>\n",
       "      <th>Infubinol</th>\n",
       "      <td>52.88</td>\n",
       "      <td>51.82</td>\n",
       "      <td>43.13</td>\n",
       "      <td>6.57</td>\n",
       "      <td>0.49</td>\n",
       "    </tr>\n",
       "    <tr>\n",
       "      <th>Ketapril</th>\n",
       "      <td>55.24</td>\n",
       "      <td>53.70</td>\n",
       "      <td>68.55</td>\n",
       "      <td>8.28</td>\n",
       "      <td>0.60</td>\n",
       "    </tr>\n",
       "    <tr>\n",
       "      <th>Naftisol</th>\n",
       "      <td>54.33</td>\n",
       "      <td>52.51</td>\n",
       "      <td>66.17</td>\n",
       "      <td>8.13</td>\n",
       "      <td>0.60</td>\n",
       "    </tr>\n",
       "    <tr>\n",
       "      <th>Placebo</th>\n",
       "      <td>54.03</td>\n",
       "      <td>52.29</td>\n",
       "      <td>61.17</td>\n",
       "      <td>7.82</td>\n",
       "      <td>0.58</td>\n",
       "    </tr>\n",
       "    <tr>\n",
       "      <th>Propriva</th>\n",
       "      <td>52.32</td>\n",
       "      <td>50.85</td>\n",
       "      <td>42.35</td>\n",
       "      <td>6.51</td>\n",
       "      <td>0.51</td>\n",
       "    </tr>\n",
       "    <tr>\n",
       "      <th>Ramicane</th>\n",
       "      <td>40.22</td>\n",
       "      <td>40.67</td>\n",
       "      <td>23.49</td>\n",
       "      <td>4.85</td>\n",
       "      <td>0.32</td>\n",
       "    </tr>\n",
       "    <tr>\n",
       "      <th>Stelasyn</th>\n",
       "      <td>54.23</td>\n",
       "      <td>52.43</td>\n",
       "      <td>59.45</td>\n",
       "      <td>7.71</td>\n",
       "      <td>0.57</td>\n",
       "    </tr>\n",
       "    <tr>\n",
       "      <th>Zoniferol</th>\n",
       "      <td>53.24</td>\n",
       "      <td>51.82</td>\n",
       "      <td>48.53</td>\n",
       "      <td>6.97</td>\n",
       "      <td>0.52</td>\n",
       "    </tr>\n",
       "  </tbody>\n",
       "</table>\n",
       "</div>"
      ],
      "text/plain": [
       "               Mean  Median  Variance  Std_dev   SEM\n",
       "Drug Regimen                                        \n",
       "Capomulin     40.68   41.56     24.95     4.99  0.33\n",
       "Ceftamin      52.59   51.78     39.29     6.27  0.47\n",
       "Infubinol     52.88   51.82     43.13     6.57  0.49\n",
       "Ketapril      55.24   53.70     68.55     8.28  0.60\n",
       "Naftisol      54.33   52.51     66.17     8.13  0.60\n",
       "Placebo       54.03   52.29     61.17     7.82  0.58\n",
       "Propriva      52.32   50.85     42.35     6.51  0.51\n",
       "Ramicane      40.22   40.67     23.49     4.85  0.32\n",
       "Stelasyn      54.23   52.43     59.45     7.71  0.57\n",
       "Zoniferol     53.24   51.82     48.53     6.97  0.52"
      ]
     },
     "execution_count": 15,
     "metadata": {},
     "output_type": "execute_result"
    }
   ],
   "source": [
    "# Let's groupby tumor volume in the Dataframe by each drug regimen\n",
    "grouped_tumor = df_combined[\"Tumor Volume (mm3)\"].groupby(df_combined[\"Drug Regimen\"]) # Create a GroupBy object\n",
    "# Let's calculate the mean of tumor volumes for each drug regimen\n",
    "drug_mean = round(grouped_tumor.mean(),2)\n",
    "# Let's calculate the median of tumor volumes for each drug regimen\n",
    "drug_median = round(grouped_tumor.median(),2)\n",
    "# Let's calculate the variance of tumor volumes for each drug regimen\n",
    "drug_var = round(grouped_tumor.var(),2)\n",
    "# Let's calculate the standard deviation (SD) of tumor volumes for each drug regimen\n",
    "drug_std = round(grouped_tumor.std(),2)\n",
    "# Let's calculate the Standard Error of the Mean (SEM) of tumor volumes for each drug regimen\n",
    "drug_sem = round(grouped_tumor.sem(),2)\n",
    "# Let's create a new DataFrame with the above series\n",
    "df_statistics = pd.DataFrame({\"Mean\": drug_mean,\\\n",
    "                              \"Median\": drug_median,\\\n",
    "                              \"Variance\": drug_var,\\\n",
    "                              \"Std_dev\": drug_std,\\\n",
    "                              \"SEM\": drug_sem })\n",
    "print('\\033[96m'+'\\033[1m'+\"The shape of the {} dataframe is: {}\" .format(\"df_statistics\",df_statistics.shape)+'\\033[0m')\n",
    "df_statistics"
   ]
  },
  {
   "cell_type": "markdown",
   "metadata": {},
   "source": [
    "## Statistics Table of mice samples tested more than once "
   ]
  },
  {
   "cell_type": "markdown",
   "metadata": {},
   "source": [
    "### Mice ID appearing once implies the particular mice was treated only once at Timepoint = 0"
   ]
  },
  {
   "cell_type": "code",
   "execution_count": 16,
   "metadata": {},
   "outputs": [
    {
     "name": "stdout",
     "output_type": "stream",
     "text": [
      "\u001b[96m\u001b[1mThe shape of the df_statisticsB dataframe is: (10, 5)\u001b[0m\n"
     ]
    },
    {
     "data": {
      "text/html": [
       "<div>\n",
       "<style scoped>\n",
       "    .dataframe tbody tr th:only-of-type {\n",
       "        vertical-align: middle;\n",
       "    }\n",
       "\n",
       "    .dataframe tbody tr th {\n",
       "        vertical-align: top;\n",
       "    }\n",
       "\n",
       "    .dataframe thead th {\n",
       "        text-align: right;\n",
       "    }\n",
       "</style>\n",
       "<table border=\"1\" class=\"dataframe\">\n",
       "  <thead>\n",
       "    <tr style=\"text-align: right;\">\n",
       "      <th></th>\n",
       "      <th>Mean</th>\n",
       "      <th>Median</th>\n",
       "      <th>Variance</th>\n",
       "      <th>Std_dev</th>\n",
       "      <th>SEM</th>\n",
       "    </tr>\n",
       "    <tr>\n",
       "      <th>Drug Regimen</th>\n",
       "      <th></th>\n",
       "      <th></th>\n",
       "      <th></th>\n",
       "      <th></th>\n",
       "      <th></th>\n",
       "    </tr>\n",
       "  </thead>\n",
       "  <tbody>\n",
       "    <tr>\n",
       "      <th>Capomulin</th>\n",
       "      <td>40.68</td>\n",
       "      <td>41.56</td>\n",
       "      <td>24.95</td>\n",
       "      <td>4.99</td>\n",
       "      <td>0.33</td>\n",
       "    </tr>\n",
       "    <tr>\n",
       "      <th>Ceftamin</th>\n",
       "      <td>52.77</td>\n",
       "      <td>51.91</td>\n",
       "      <td>38.84</td>\n",
       "      <td>6.23</td>\n",
       "      <td>0.47</td>\n",
       "    </tr>\n",
       "    <tr>\n",
       "      <th>Infubinol</th>\n",
       "      <td>52.88</td>\n",
       "      <td>51.82</td>\n",
       "      <td>43.13</td>\n",
       "      <td>6.57</td>\n",
       "      <td>0.49</td>\n",
       "    </tr>\n",
       "    <tr>\n",
       "      <th>Ketapril</th>\n",
       "      <td>55.35</td>\n",
       "      <td>53.74</td>\n",
       "      <td>68.15</td>\n",
       "      <td>8.26</td>\n",
       "      <td>0.61</td>\n",
       "    </tr>\n",
       "    <tr>\n",
       "      <th>Naftisol</th>\n",
       "      <td>54.43</td>\n",
       "      <td>52.54</td>\n",
       "      <td>65.93</td>\n",
       "      <td>8.12</td>\n",
       "      <td>0.60</td>\n",
       "    </tr>\n",
       "    <tr>\n",
       "      <th>Placebo</th>\n",
       "      <td>54.08</td>\n",
       "      <td>52.32</td>\n",
       "      <td>61.05</td>\n",
       "      <td>7.81</td>\n",
       "      <td>0.58</td>\n",
       "    </tr>\n",
       "    <tr>\n",
       "      <th>Propriva</th>\n",
       "      <td>52.37</td>\n",
       "      <td>50.91</td>\n",
       "      <td>42.28</td>\n",
       "      <td>6.50</td>\n",
       "      <td>0.51</td>\n",
       "    </tr>\n",
       "    <tr>\n",
       "      <th>Ramicane</th>\n",
       "      <td>40.22</td>\n",
       "      <td>40.67</td>\n",
       "      <td>23.49</td>\n",
       "      <td>4.85</td>\n",
       "      <td>0.32</td>\n",
       "    </tr>\n",
       "    <tr>\n",
       "      <th>Stelasyn</th>\n",
       "      <td>54.28</td>\n",
       "      <td>52.49</td>\n",
       "      <td>59.30</td>\n",
       "      <td>7.70</td>\n",
       "      <td>0.57</td>\n",
       "    </tr>\n",
       "    <tr>\n",
       "      <th>Zoniferol</th>\n",
       "      <td>53.28</td>\n",
       "      <td>51.83</td>\n",
       "      <td>48.42</td>\n",
       "      <td>6.96</td>\n",
       "      <td>0.52</td>\n",
       "    </tr>\n",
       "  </tbody>\n",
       "</table>\n",
       "</div>"
      ],
      "text/plain": [
       "               Mean  Median  Variance  Std_dev   SEM\n",
       "Drug Regimen                                        \n",
       "Capomulin     40.68   41.56     24.95     4.99  0.33\n",
       "Ceftamin      52.77   51.91     38.84     6.23  0.47\n",
       "Infubinol     52.88   51.82     43.13     6.57  0.49\n",
       "Ketapril      55.35   53.74     68.15     8.26  0.61\n",
       "Naftisol      54.43   52.54     65.93     8.12  0.60\n",
       "Placebo       54.08   52.32     61.05     7.81  0.58\n",
       "Propriva      52.37   50.91     42.28     6.50  0.51\n",
       "Ramicane      40.22   40.67     23.49     4.85  0.32\n",
       "Stelasyn      54.28   52.49     59.30     7.70  0.57\n",
       "Zoniferol     53.28   51.83     48.42     6.96  0.52"
      ]
     },
     "execution_count": 16,
     "metadata": {},
     "output_type": "execute_result"
    }
   ],
   "source": [
    "# Let's filter the dataframe of mice receiving treatment only once\n",
    "mice_unity_count = mice_count_sorted.loc[mice_count_sorted[\"Count\"] == 1]\n",
    "# Creating a list of mice recieving treatment only once\n",
    "mice_list = mice_unity_count[\"Mouse ID\"].tolist()\n",
    "# Create a new dataframe with mice receiving treatment more than once\n",
    "df_combinedB = df_combined[~df_combined[\"Mouse ID\"].isin(mice_list)]\n",
    "# Let's groupby tumor volume in the Dataframe by each drug regimen\n",
    "grouped_tumor = df_combinedB[\"Tumor Volume (mm3)\"].groupby(df_combinedB[\"Drug Regimen\"]) # Create a GroupBy object\n",
    "# Let's calculate the mean of tumor volumes for each drug regimen\n",
    "drug_mean = round(grouped_tumor.mean(),2)\n",
    "# Let's calculate the median of tumor volumes for each drug regimen\n",
    "drug_median = round(grouped_tumor.median(),2)\n",
    "# Let's calculate the variance of tumor volumes for each drug regimen\n",
    "drug_var = round(grouped_tumor.var(),2)\n",
    "# Let's calculate the standard deviation (SD) of tumor volumes for each drug regimen\n",
    "drug_std = round(grouped_tumor.std(),2)\n",
    "# Let's calculate the Standard Error of the Mean (SEM) of tumor volumes for each drug regimen\n",
    "drug_sem = round(grouped_tumor.sem(),2)\n",
    "# Let's create a new DataFrame with the above series\n",
    "df_statisticsB = pd.DataFrame({\"Mean\": drug_mean,\\\n",
    "                              \"Median\": drug_median,\\\n",
    "                              \"Variance\": drug_var,\\\n",
    "                              \"Std_dev\": drug_std,\\\n",
    "                              \"SEM\": drug_sem })\n",
    "print('\\033[96m'+'\\033[1m'+\"The shape of the {} dataframe is: {}\" .format(\"df_statisticsB\",df_statisticsB.shape)+'\\033[0m')\n",
    "df_statisticsB"
   ]
  },
  {
   "cell_type": "markdown",
   "metadata": {},
   "source": [
    "## Conclusion: Mice tested once belonged to Drug Regimens: <span style=\"color:blue\"> Ketapril, Naftisol, Stelasyn,Zoniferol, Placebo, Ceftamin and Propiva</span>"
   ]
  },
  {
   "cell_type": "markdown",
   "metadata": {},
   "source": [
    "# Bar plots"
   ]
  },
  {
   "cell_type": "markdown",
   "metadata": {},
   "source": [
    "### Generate a bar plot showing number of data points for each treatment regimen using pandas"
   ]
  },
  {
   "cell_type": "code",
   "execution_count": 17,
   "metadata": {},
   "outputs": [
    {
     "data": {
      "text/html": [
       "<div>\n",
       "<style scoped>\n",
       "    .dataframe tbody tr th:only-of-type {\n",
       "        vertical-align: middle;\n",
       "    }\n",
       "\n",
       "    .dataframe tbody tr th {\n",
       "        vertical-align: top;\n",
       "    }\n",
       "\n",
       "    .dataframe thead th {\n",
       "        text-align: right;\n",
       "    }\n",
       "</style>\n",
       "<table border=\"1\" class=\"dataframe\">\n",
       "  <thead>\n",
       "    <tr style=\"text-align: right;\">\n",
       "      <th></th>\n",
       "      <th>Drug Regimen</th>\n",
       "      <th>Count</th>\n",
       "    </tr>\n",
       "  </thead>\n",
       "  <tbody>\n",
       "    <tr>\n",
       "      <th>0</th>\n",
       "      <td>Capomulin</td>\n",
       "      <td>230</td>\n",
       "    </tr>\n",
       "    <tr>\n",
       "      <th>1</th>\n",
       "      <td>Ceftamin</td>\n",
       "      <td>178</td>\n",
       "    </tr>\n",
       "    <tr>\n",
       "      <th>2</th>\n",
       "      <td>Infubinol</td>\n",
       "      <td>178</td>\n",
       "    </tr>\n",
       "    <tr>\n",
       "      <th>3</th>\n",
       "      <td>Ketapril</td>\n",
       "      <td>188</td>\n",
       "    </tr>\n",
       "    <tr>\n",
       "      <th>4</th>\n",
       "      <td>Naftisol</td>\n",
       "      <td>186</td>\n",
       "    </tr>\n",
       "    <tr>\n",
       "      <th>5</th>\n",
       "      <td>Placebo</td>\n",
       "      <td>181</td>\n",
       "    </tr>\n",
       "    <tr>\n",
       "      <th>6</th>\n",
       "      <td>Propriva</td>\n",
       "      <td>161</td>\n",
       "    </tr>\n",
       "    <tr>\n",
       "      <th>7</th>\n",
       "      <td>Ramicane</td>\n",
       "      <td>228</td>\n",
       "    </tr>\n",
       "    <tr>\n",
       "      <th>8</th>\n",
       "      <td>Stelasyn</td>\n",
       "      <td>181</td>\n",
       "    </tr>\n",
       "    <tr>\n",
       "      <th>9</th>\n",
       "      <td>Zoniferol</td>\n",
       "      <td>182</td>\n",
       "    </tr>\n",
       "  </tbody>\n",
       "</table>\n",
       "</div>"
      ],
      "text/plain": [
       "  Drug Regimen  Count\n",
       "0    Capomulin    230\n",
       "1     Ceftamin    178\n",
       "2    Infubinol    178\n",
       "3     Ketapril    188\n",
       "4     Naftisol    186\n",
       "5      Placebo    181\n",
       "6     Propriva    161\n",
       "7     Ramicane    228\n",
       "8     Stelasyn    181\n",
       "9    Zoniferol    182"
      ]
     },
     "execution_count": 17,
     "metadata": {},
     "output_type": "execute_result"
    }
   ],
   "source": [
    "# Let's groupby drug regimen column in the Dataframe by each drug regimen\n",
    "grouped_count = df_combined[\"Drug Regimen\"].groupby(df_combined[\"Drug Regimen\"]) # Create a GroupBy object\n",
    "# Let's create a dataframe with the number of data points for each drug regimen\n",
    "drug_count = grouped_count.count().to_frame(\"Count\").reset_index()\n",
    "drug_count"
   ]
  },
  {
   "cell_type": "code",
   "execution_count": 18,
   "metadata": {},
   "outputs": [
    {
     "data": {
      "text/plain": [
       "Text(0, 0.5, 'Count')"
      ]
     },
     "execution_count": 18,
     "metadata": {},
     "output_type": "execute_result"
    },
    {
     "data": {
      "image/png": "[encoded data removed]",
      "text/plain": [
       "<Figure size 720x432 with 1 Axes>"
      ]
     },
     "metadata": {
      "needs_background": "light"
     },
     "output_type": "display_data"
    }
   ],
   "source": [
    "# Creating a vertical bar plot using plot() function of Pandas\n",
    "ax = drug_count.plot(kind='bar', x = \"Drug Regimen\", y = \"Count\", \\\n",
    "                color = \"red\", alpha = 0.5, grid = False ,\\\n",
    "                fontsize = 16, ylim =(0,250),legend = False,\\\n",
    "                rot = 90,position = 0.5,figsize=(10,6))\n",
    "# Set the title, x & y labels for the bar plot\n",
    "ax.set_title(\"Bar plot of each treatment regimen using Pandas\",color=\"black\",fontsize = 18)\n",
    "ax.set_xlabel(\"Drug Regimen\",color=\"black\",fontsize=16)\n",
    "ax.set_ylabel(\"Count\",color=\"black\",fontsize=16)"
   ]
  },
  {
   "cell_type": "markdown",
   "metadata": {},
   "source": [
    "### Generate a bar plot showing number of data points for each treatment regimen using pyplot"
   ]
  },
  {
   "cell_type": "code",
   "execution_count": 19,
   "metadata": {},
   "outputs": [
    {
     "data": {
      "image/png": "[encoded data removed]",
      "text/plain": [
       "<Figure size 720x576 with 1 Axes>"
      ]
     },
     "metadata": {
      "needs_background": "light"
     },
     "output_type": "display_data"
    }
   ],
   "source": [
    "import matplotlib.pyplot as plt\n",
    "import numpy as np\n",
    "# %matplotlib notebook\n",
    "# Create a font library\n",
    "titlefont = {\"fontname\":\"Times New Roman\"}\n",
    "labelfont = {\"fontname\":\"Arial\"}\n",
    "# Define the figure size\n",
    "fig = plt.figure(figsize=(10,8))\n",
    "# Define x_axis for the plot\n",
    "x_axis = np.arange(len(drug_count[\"Drug Regimen\"]))\n",
    "# Define tick locations and place the x_ticks\n",
    "tick_locations = [value for value in x_axis]\n",
    "plt.xticks(tick_locations,drug_count[\"Drug Regimen\"],rotation=90,fontsize=14,**labelfont)\n",
    "# Sets the x limits of the current chart\n",
    "plt.xlim(-0.75, len(x_axis)-0.25)\n",
    "# Sets the y limits of the current chart\n",
    "plt.ylim(0, max(drug_count[\"Count\"])+20)\n",
    "plt.yticks(fontsize=14, **labelfont)\n",
    "# Give our chart some labels and a tile\n",
    "plt.title(\"Bar plot of each treatment regimen using pyplot\",fontsize = 22,**titlefont)\n",
    "plt.xlabel(\"Drug Regimen\",fontsize = 16,**labelfont)\n",
    "plt.ylabel(\"Count\",fontsize = 16,**labelfont)\n",
    "# We apply align=\"center\" to ensure our bars line up with our tick marks\n",
    "plt.bar(x_axis, drug_count[\"Count\"],width=0.5,color=\"red\",alpha=0.5, align=\"center\")\n",
    "# Ensure that the x_labels show in the plot\n",
    "plt.tight_layout()\n",
    "plt.show() # Display the plot"
   ]
  },
  {
   "cell_type": "markdown",
   "metadata": {},
   "source": [
    "###  Bar graph plotted using pyplot combined with a colormap"
   ]
  },
  {
   "cell_type": "code",
   "execution_count": 20,
   "metadata": {},
   "outputs": [
    {
     "data": {
      "image/png": "[encoded data removed]",
      "text/plain": [
       "<Figure size 720x576 with 1 Axes>"
      ]
     },
     "metadata": {
      "needs_background": "light"
     },
     "output_type": "display_data"
    }
   ],
   "source": [
    "import matplotlib.pyplot as plt\n",
    "import matplotlib.colors as mcolors\n",
    "import numpy as np\n",
    "# Create a font library\n",
    "titlefont = {\"fontname\":\"Georgia\"}\n",
    "labelfont = {\"fontname\":\"Arial\"}\n",
    "# Define the figure size\n",
    "fig = plt.figure(figsize=(10,8))\n",
    "# Define a color list\n",
    "clist = [(0,\"red\"),(0.125,\"red\"),(0.25,\"orange\"),(0.5,\"green\"),(0.7,\"green\"),(0.75,\"blue\"),(1,\"blue\")]\n",
    "rvb = mcolors.LinearSegmentedColormap.from_list(\"\",clist)\n",
    "# Define x_axis for the plot\n",
    "x_axis = np.arange(len(drug_count[\"Drug Regimen\"]))\n",
    "# Define tick locations and place the x_ticks\n",
    "tick_locations = [value for value in x_axis]\n",
    "plt.xticks(tick_locations,drug_count[\"Drug Regimen\"],rotation=90,fontsize=14)\n",
    "plt.yticks(fontsize=14)\n",
    "# Sets the x limits of the current chart\n",
    "plt.xlim(-0.75, len(x_axis)-0.25)\n",
    "# Sets the y limits of the current chart\n",
    "plt.ylim(0, max(drug_count[\"Count\"])+20)\n",
    "# Give our chart some labels and a tile\n",
    "plt.title(\"Bar plot of each treatment regimen using pyplot & colormap\",fontsize=20,color=\"black\",alpha=0.7,**titlefont)\n",
    "plt.xlabel(\"Drug Regimen\",fontsize = 16,**labelfont)\n",
    "plt.ylabel(\"Count\",fontsize = 16,**labelfont)\n",
    "# We apply align=\"center\" to ensure our bars line up with our tick marks\n",
    "plt.bar(x_axis, drug_count[\"Count\"], width = 0.6,color= rvb(x_axis/len(drug_count[\"Drug Regimen\"])),alpha=0.5, align=\"center\")\n",
    "for index,value in enumerate(drug_count[\"Count\"]):\n",
    "    # Create the labels\n",
    "    label = int(value)\n",
    "    # annotate text within each bar\n",
    "    plt.annotate(label,xy=(index-0.25,value+5),color = 'blue',fontsize=14,**labelfont)\n",
    "# Ensure that the x_labels show in the plot\n",
    "plt.tight_layout()\n",
    "plt.show() # Display the plot"
   ]
  },
  {
   "cell_type": "markdown",
   "metadata": {},
   "source": [
    "# Pie plots"
   ]
  },
  {
   "cell_type": "markdown",
   "metadata": {},
   "source": [
    "### Generate a pie plot showing the distribution of female versus male mice using pandas"
   ]
  },
  {
   "cell_type": "code",
   "execution_count": 21,
   "metadata": {},
   "outputs": [
    {
     "name": "stdout",
     "output_type": "stream",
     "text": [
      "\u001b[96m\u001b[1mTotal number of mice in the study is: 249\u001b[0m\n"
     ]
    }
   ],
   "source": [
    "# Count the total number of mice in the dataset\n",
    "no_of_mice = len(df_combined[\"Mouse ID\"].value_counts())\n",
    "print('\\033[96m'+'\\033[1m'+\"Total number of mice in the study is: {}\" .format(no_of_mice)+'\\033[0m')"
   ]
  },
  {
   "cell_type": "code",
   "execution_count": 22,
   "metadata": {},
   "outputs": [
    {
     "data": {
      "text/html": [
       "<div>\n",
       "<style scoped>\n",
       "    .dataframe tbody tr th:only-of-type {\n",
       "        vertical-align: middle;\n",
       "    }\n",
       "\n",
       "    .dataframe tbody tr th {\n",
       "        vertical-align: top;\n",
       "    }\n",
       "\n",
       "    .dataframe thead th {\n",
       "        text-align: right;\n",
       "    }\n",
       "</style>\n",
       "<table border=\"1\" class=\"dataframe\">\n",
       "  <thead>\n",
       "    <tr style=\"text-align: right;\">\n",
       "      <th></th>\n",
       "      <th>Count</th>\n",
       "      <th>Percent Count</th>\n",
       "    </tr>\n",
       "    <tr>\n",
       "      <th>Sex</th>\n",
       "      <th></th>\n",
       "      <th></th>\n",
       "    </tr>\n",
       "  </thead>\n",
       "  <tbody>\n",
       "    <tr>\n",
       "      <th>Female</th>\n",
       "      <td>124</td>\n",
       "      <td>49.8</td>\n",
       "    </tr>\n",
       "    <tr>\n",
       "      <th>Male</th>\n",
       "      <td>125</td>\n",
       "      <td>50.2</td>\n",
       "    </tr>\n",
       "  </tbody>\n",
       "</table>\n",
       "</div>"
      ],
      "text/plain": [
       "        Count  Percent Count\n",
       "Sex                         \n",
       "Female    124           49.8\n",
       "Male      125           50.2"
      ]
     },
     "execution_count": 22,
     "metadata": {},
     "output_type": "execute_result"
    }
   ],
   "source": [
    "# Let's copy the combined dataframe to a new dataframe\n",
    "df_gender = df_combined.copy()\n",
    "# Let's drop duplicate Mouse IDs from this new dataframe\n",
    "df_gender.drop_duplicates(subset=\"Mouse ID\",keep = 'first', inplace = True)\n",
    "# Let's reset index in the new dataframe\n",
    "df_gender.reset_index(drop = True, inplace = True)\n",
    "# Let's groupby Mouse ID column in the Dataframe by gender of mouse\n",
    "grouped_gender = df_gender[\"Mouse ID\"].groupby(df_gender[\"Sex\"]) # Create a GroupBy object\n",
    "# Let's create a dataframe with the gender of mouse in the dataset\n",
    "gender_count = grouped_gender.count().to_frame(\"Count\").reset_index()\n",
    "# Let's create a percentage column in the gender dataframe\n",
    "gender_count[\"Percent Count\"] = round(100*(gender_count[\"Count\"]/gender_count[\"Count\"].sum(axis=0)),2)\n",
    "# Make the gender, i.e. Sex column as index\n",
    "gender_count.set_index(\"Sex\",drop = True,inplace = True)\n",
    "gender_count # Display the dataframe"
   ]
  },
  {
   "cell_type": "markdown",
   "metadata": {},
   "source": [
    "### <span style=\"color:blue\">There are 124 (49.8%) female mice and 125 (50.2%) male mice in the study</span>"
   ]
  },
  {
   "cell_type": "code",
   "execution_count": 23,
   "metadata": {},
   "outputs": [
    {
     "data": {
      "text/plain": [
       "<matplotlib.legend.Legend at 0x284eaf0d808>"
      ]
     },
     "execution_count": 23,
     "metadata": {},
     "output_type": "execute_result"
    },
    {
     "data": {
      "image/png": "[encoded data removed]",
      "text/plain": [
       "<Figure size 432x432 with 1 Axes>"
      ]
     },
     "metadata": {},
     "output_type": "display_data"
    }
   ],
   "source": [
    "# Let's draw a pie chart using plot function of panda's dataframe\n",
    "ax = gender_count.plot(kind=\"pie\", y=\"Percent Count\",\\\n",
    "                  figsize = (6,6),\\\n",
    "                  autopct = \"%1.1f%%\",\\\n",
    "                  pctdistance = 0.3,\\\n",
    "                  colors = [\"yellowgreen\",\"gold\"],\\\n",
    "                  wedgeprops = {\"edgecolor\":\"0\",\"linewidth\":1},\\\n",
    "                  startangle = 0,\\\n",
    "                  explode = [0.05,0],\\\n",
    "                  fontsize = 16,\\\n",
    "                  shadow = True)\n",
    "# Remove y_label since the % value is already inside the chart\n",
    "ax.set_ylabel(\"\")\n",
    "# Set the title of the pie chart\n",
    "ax.set_title(\"Pie Chart of Female vs. Male mice\",color=\"black\",fontsize = 18)\n",
    "# Place the legend and set legend fontsize\n",
    "ax.legend(bbox_to_anchor=(0.9,1.0), prop={\"size\":14})"
   ]
  },
  {
   "cell_type": "markdown",
   "metadata": {},
   "source": [
    "### Generate a pie plot showing the distribution of female versus male mice using pyplot"
   ]
  },
  {
   "cell_type": "code",
   "execution_count": 24,
   "metadata": {},
   "outputs": [
    {
     "data": {
      "image/png": "[encoded data removed]",
      "text/plain": [
       "<Figure size 432x432 with 1 Axes>"
      ]
     },
     "metadata": {},
     "output_type": "display_data"
    }
   ],
   "source": [
    "import matplotlib.pyplot as plt\n",
    "# Create a font library\n",
    "titlefont = {\"fontname\":\"Times New Roman\"}\n",
    "labelfont = {\"fontname\":\"Arial\"}\n",
    "# Let's make a colors list\n",
    "colors_list = [\"yellowgreen\",\"gold\"]\n",
    "# Explode list for better visualization\n",
    "explode_list=[0.05,0]\n",
    "# Draw the pie chart\n",
    "gender_count.plot(kind=\"pie\", y=\"Percent Count\",\\\n",
    "                  figsize = (6,6),\\\n",
    "                  autopct = \"%1.1f%%\",\\\n",
    "                  startangle = 0,\\\n",
    "                  pctdistance = 0.3,\\\n",
    "                  wedgeprops = {\"edgecolor\":\"0\",\"linewidth\":1},\\\n",
    "                  colors = colors_list,\\\n",
    "                  explode = explode_list,\\\n",
    "                  textprops = {\"fontsize\":16},\\\n",
    "                  shadow = True)\n",
    "# Display the title, legend and ensure that the pie chart is a circle\n",
    "plt.title(\"Pie Chart of Female vs. Male mice\", fontsize=22,y = 1.05,**titlefont)\n",
    "plt.ylabel('') # Remove the y axis label\n",
    "plt.legend(loc=\"best\") # Place the legend\n",
    "plt.axis(\"equal\") # Make sure that the plot is a circle\n",
    "plt.tight_layout()\n",
    "plt.show()"
   ]
  },
  {
   "cell_type": "markdown",
   "metadata": {},
   "source": [
    "# Quartiles, outliers and boxplots"
   ]
  },
  {
   "cell_type": "markdown",
   "metadata": {},
   "source": [
    "## Determining the most promising treatment regimens"
   ]
  },
  {
   "cell_type": "code",
   "execution_count": 25,
   "metadata": {},
   "outputs": [
    {
     "data": {
      "text/html": [
       "<div>\n",
       "<style scoped>\n",
       "    .dataframe tbody tr th:only-of-type {\n",
       "        vertical-align: middle;\n",
       "    }\n",
       "\n",
       "    .dataframe tbody tr th {\n",
       "        vertical-align: top;\n",
       "    }\n",
       "\n",
       "    .dataframe thead th {\n",
       "        text-align: right;\n",
       "    }\n",
       "</style>\n",
       "<table border=\"1\" class=\"dataframe\">\n",
       "  <thead>\n",
       "    <tr style=\"text-align: right;\">\n",
       "      <th></th>\n",
       "      <th>Mouse ID</th>\n",
       "      <th>Start_time</th>\n",
       "      <th>Start_tumor_vol</th>\n",
       "    </tr>\n",
       "  </thead>\n",
       "  <tbody>\n",
       "    <tr>\n",
       "      <th>0</th>\n",
       "      <td>b128</td>\n",
       "      <td>0</td>\n",
       "      <td>45.0</td>\n",
       "    </tr>\n",
       "    <tr>\n",
       "      <th>1</th>\n",
       "      <td>f932</td>\n",
       "      <td>0</td>\n",
       "      <td>45.0</td>\n",
       "    </tr>\n",
       "    <tr>\n",
       "      <th>2</th>\n",
       "      <td>g107</td>\n",
       "      <td>0</td>\n",
       "      <td>45.0</td>\n",
       "    </tr>\n",
       "    <tr>\n",
       "      <th>3</th>\n",
       "      <td>a457</td>\n",
       "      <td>0</td>\n",
       "      <td>45.0</td>\n",
       "    </tr>\n",
       "    <tr>\n",
       "      <th>4</th>\n",
       "      <td>c819</td>\n",
       "      <td>0</td>\n",
       "      <td>45.0</td>\n",
       "    </tr>\n",
       "  </tbody>\n",
       "</table>\n",
       "</div>"
      ],
      "text/plain": [
       "  Mouse ID  Start_time  Start_tumor_vol\n",
       "0     b128           0             45.0\n",
       "1     f932           0             45.0\n",
       "2     g107           0             45.0\n",
       "3     a457           0             45.0\n",
       "4     c819           0             45.0"
      ]
     },
     "execution_count": 25,
     "metadata": {},
     "output_type": "execute_result"
    }
   ],
   "source": [
    "# Let's copy the combined dataframe to a new dataframe\n",
    "df_treatment = df_combined.copy()\n",
    "# Let's sort the dataframe on the timepoint\n",
    "df_treatment.sort_values(by=\"Timepoint\",ascending=False)\n",
    "# Let's make a new dataframe with only the begining timepoints\n",
    "df_start_points = df_treatment.drop_duplicates(subset=\"Mouse ID\",keep = 'first')\n",
    "# Let's keep only the columns needed for this analysis\n",
    "df_start = df_start_points[[\"Mouse ID\",\"Timepoint\",\"Tumor Volume (mm3)\"]]\n",
    "# Let's rename the columns in the starting dataframe\n",
    "df_treatment_start = df_start.rename(columns={\"Timepoint\":\"Start_time\",\"Tumor Volume (mm3)\":\"Start_tumor_vol\"})\n",
    "# Let's reset index in the new dataframe\n",
    "df_treatment_start.reset_index(drop = True, inplace = True)\n",
    "df_treatment_start.head() # Display the first 5 rows"
   ]
  },
  {
   "cell_type": "code",
   "execution_count": 26,
   "metadata": {},
   "outputs": [
    {
     "data": {
      "text/html": [
       "<div>\n",
       "<style scoped>\n",
       "    .dataframe tbody tr th:only-of-type {\n",
       "        vertical-align: middle;\n",
       "    }\n",
       "\n",
       "    .dataframe tbody tr th {\n",
       "        vertical-align: top;\n",
       "    }\n",
       "\n",
       "    .dataframe thead th {\n",
       "        text-align: right;\n",
       "    }\n",
       "</style>\n",
       "<table border=\"1\" class=\"dataframe\">\n",
       "  <thead>\n",
       "    <tr style=\"text-align: right;\">\n",
       "      <th></th>\n",
       "      <th>Mouse ID</th>\n",
       "      <th>End_time</th>\n",
       "      <th>End_tumor_vol</th>\n",
       "      <th>Drug Regimen</th>\n",
       "    </tr>\n",
       "  </thead>\n",
       "  <tbody>\n",
       "    <tr>\n",
       "      <th>0</th>\n",
       "      <td>b128</td>\n",
       "      <td>45</td>\n",
       "      <td>38.982878</td>\n",
       "      <td>Capomulin</td>\n",
       "    </tr>\n",
       "    <tr>\n",
       "      <th>1</th>\n",
       "      <td>f932</td>\n",
       "      <td>0</td>\n",
       "      <td>45.000000</td>\n",
       "      <td>Ketapril</td>\n",
       "    </tr>\n",
       "    <tr>\n",
       "      <th>2</th>\n",
       "      <td>g107</td>\n",
       "      <td>35</td>\n",
       "      <td>71.905117</td>\n",
       "      <td>Ketapril</td>\n",
       "    </tr>\n",
       "    <tr>\n",
       "      <th>3</th>\n",
       "      <td>a457</td>\n",
       "      <td>10</td>\n",
       "      <td>49.783419</td>\n",
       "      <td>Ketapril</td>\n",
       "    </tr>\n",
       "    <tr>\n",
       "      <th>4</th>\n",
       "      <td>c819</td>\n",
       "      <td>40</td>\n",
       "      <td>62.175705</td>\n",
       "      <td>Ketapril</td>\n",
       "    </tr>\n",
       "  </tbody>\n",
       "</table>\n",
       "</div>"
      ],
      "text/plain": [
       "  Mouse ID  End_time  End_tumor_vol Drug Regimen\n",
       "0     b128        45      38.982878    Capomulin\n",
       "1     f932         0      45.000000     Ketapril\n",
       "2     g107        35      71.905117     Ketapril\n",
       "3     a457        10      49.783419     Ketapril\n",
       "4     c819        40      62.175705     Ketapril"
      ]
     },
     "execution_count": 26,
     "metadata": {},
     "output_type": "execute_result"
    }
   ],
   "source": [
    "# Let's make another dataframe with only the end timepoints\n",
    "df_end_points = df_treatment.drop_duplicates(subset=\"Mouse ID\",keep = 'last')\n",
    "# Let's keep only the columns needed for this analysis\n",
    "df_end = df_end_points[[\"Mouse ID\",\"Timepoint\",\"Tumor Volume (mm3)\",\"Drug Regimen\"]]\n",
    "# Let's rename the columns in the end dataframe\n",
    "df_treatment_end = df_end.rename(columns={\"Timepoint\":\"End_time\",\"Tumor Volume (mm3)\":\"End_tumor_vol\"})\n",
    "# Let's reset index in the new dataframe\n",
    "df_treatment_end.reset_index(drop = True, inplace = True)\n",
    "df_treatment_end.head() # Display the first 5 rows"
   ]
  },
  {
   "cell_type": "code",
   "execution_count": 27,
   "metadata": {},
   "outputs": [
    {
     "name": "stdout",
     "output_type": "stream",
     "text": [
      "\u001b[96m\u001b[1mThe shape of the df_tumor_deltaV dataframe is (249, 4):\u001b[0m\n"
     ]
    },
    {
     "data": {
      "text/html": [
       "<div>\n",
       "<style scoped>\n",
       "    .dataframe tbody tr th:only-of-type {\n",
       "        vertical-align: middle;\n",
       "    }\n",
       "\n",
       "    .dataframe tbody tr th {\n",
       "        vertical-align: top;\n",
       "    }\n",
       "\n",
       "    .dataframe thead th {\n",
       "        text-align: right;\n",
       "    }\n",
       "</style>\n",
       "<table border=\"1\" class=\"dataframe\">\n",
       "  <thead>\n",
       "    <tr style=\"text-align: right;\">\n",
       "      <th></th>\n",
       "      <th>Mouse ID</th>\n",
       "      <th>Drug Regimen</th>\n",
       "      <th>Study Duration</th>\n",
       "      <th>Tumor_vol_change</th>\n",
       "    </tr>\n",
       "  </thead>\n",
       "  <tbody>\n",
       "    <tr>\n",
       "      <th>0</th>\n",
       "      <td>b128</td>\n",
       "      <td>Capomulin</td>\n",
       "      <td>45</td>\n",
       "      <td>6.017122</td>\n",
       "    </tr>\n",
       "    <tr>\n",
       "      <th>1</th>\n",
       "      <td>f932</td>\n",
       "      <td>Ketapril</td>\n",
       "      <td>0</td>\n",
       "      <td>0.000000</td>\n",
       "    </tr>\n",
       "    <tr>\n",
       "      <th>2</th>\n",
       "      <td>g107</td>\n",
       "      <td>Ketapril</td>\n",
       "      <td>35</td>\n",
       "      <td>-26.905117</td>\n",
       "    </tr>\n",
       "    <tr>\n",
       "      <th>3</th>\n",
       "      <td>a457</td>\n",
       "      <td>Ketapril</td>\n",
       "      <td>10</td>\n",
       "      <td>-4.783419</td>\n",
       "    </tr>\n",
       "    <tr>\n",
       "      <th>4</th>\n",
       "      <td>c819</td>\n",
       "      <td>Ketapril</td>\n",
       "      <td>40</td>\n",
       "      <td>-17.175705</td>\n",
       "    </tr>\n",
       "  </tbody>\n",
       "</table>\n",
       "</div>"
      ],
      "text/plain": [
       "  Mouse ID Drug Regimen  Study Duration  Tumor_vol_change\n",
       "0     b128    Capomulin              45          6.017122\n",
       "1     f932     Ketapril               0          0.000000\n",
       "2     g107     Ketapril              35        -26.905117\n",
       "3     a457     Ketapril              10         -4.783419\n",
       "4     c819     Ketapril              40        -17.175705"
      ]
     },
     "execution_count": 27,
     "metadata": {},
     "output_type": "execute_result"
    }
   ],
   "source": [
    "# Combine both the start and end timing dataframe into a single dataframe\n",
    "df_combined_vol = pd.merge(df_treatment_start, df_treatment_end, how=\"outer\", on=\"Mouse ID\")\n",
    "# Let us calculate the duration of study for each mouse\n",
    "df_combined_vol[\"Study Duration\"] = df_combined_vol[\"End_time\"] - df_combined_vol[\"Start_time\"]\n",
    "# Let us calculate the change in tumor volume for each mouse\n",
    "df_combined_vol[\"Tumor_vol_change\"] = df_combined_vol[\"Start_tumor_vol\"] - df_combined_vol[\"End_tumor_vol\"]\n",
    "# Let us finalize a dataframe containing Mouse ID, Drug Regimen, Study Duration and Tumor_vol_change\n",
    "df_tumor_deltaV = df_combined_vol[[\"Mouse ID\",\"Drug Regimen\",\"Study Duration\",\"Tumor_vol_change\"]]\n",
    "print('\\033[96m'+'\\033[1m'+\"The shape of the {} dataframe is {}:\" \\\n",
    "      .format(\"df_tumor_deltaV\",df_tumor_deltaV.shape)+'\\033[0m')\n",
    "df_tumor_deltaV.head()"
   ]
  },
  {
   "cell_type": "markdown",
   "metadata": {},
   "source": [
    "### Let's delete the rows with null Study Duration from the dataframe"
   ]
  },
  {
   "cell_type": "code",
   "execution_count": 28,
   "metadata": {
    "scrolled": true
   },
   "outputs": [
    {
     "name": "stdout",
     "output_type": "stream",
     "text": [
      "\u001b[96m\u001b[1mThe shape of the df_tumor_change dataframe after row deletion is (237, 4):\u001b[0m\n"
     ]
    },
    {
     "data": {
      "text/html": [
       "<div>\n",
       "<style scoped>\n",
       "    .dataframe tbody tr th:only-of-type {\n",
       "        vertical-align: middle;\n",
       "    }\n",
       "\n",
       "    .dataframe tbody tr th {\n",
       "        vertical-align: top;\n",
       "    }\n",
       "\n",
       "    .dataframe thead th {\n",
       "        text-align: right;\n",
       "    }\n",
       "</style>\n",
       "<table border=\"1\" class=\"dataframe\">\n",
       "  <thead>\n",
       "    <tr style=\"text-align: right;\">\n",
       "      <th></th>\n",
       "      <th>Mouse ID</th>\n",
       "      <th>Drug Regimen</th>\n",
       "      <th>Study Duration</th>\n",
       "      <th>Tumor_vol_change</th>\n",
       "    </tr>\n",
       "  </thead>\n",
       "  <tbody>\n",
       "    <tr>\n",
       "      <th>0</th>\n",
       "      <td>b128</td>\n",
       "      <td>Capomulin</td>\n",
       "      <td>45</td>\n",
       "      <td>6.017122</td>\n",
       "    </tr>\n",
       "    <tr>\n",
       "      <th>1</th>\n",
       "      <td>g107</td>\n",
       "      <td>Ketapril</td>\n",
       "      <td>35</td>\n",
       "      <td>-26.905117</td>\n",
       "    </tr>\n",
       "    <tr>\n",
       "      <th>2</th>\n",
       "      <td>a457</td>\n",
       "      <td>Ketapril</td>\n",
       "      <td>10</td>\n",
       "      <td>-4.783419</td>\n",
       "    </tr>\n",
       "    <tr>\n",
       "      <th>3</th>\n",
       "      <td>c819</td>\n",
       "      <td>Ketapril</td>\n",
       "      <td>40</td>\n",
       "      <td>-17.175705</td>\n",
       "    </tr>\n",
       "    <tr>\n",
       "      <th>4</th>\n",
       "      <td>h246</td>\n",
       "      <td>Ketapril</td>\n",
       "      <td>45</td>\n",
       "      <td>-29.104086</td>\n",
       "    </tr>\n",
       "  </tbody>\n",
       "</table>\n",
       "</div>"
      ],
      "text/plain": [
       "  Mouse ID Drug Regimen  Study Duration  Tumor_vol_change\n",
       "0     b128    Capomulin              45          6.017122\n",
       "1     g107     Ketapril              35        -26.905117\n",
       "2     a457     Ketapril              10         -4.783419\n",
       "3     c819     Ketapril              40        -17.175705\n",
       "4     h246     Ketapril              45        -29.104086"
      ]
     },
     "execution_count": 28,
     "metadata": {},
     "output_type": "execute_result"
    }
   ],
   "source": [
    "# First we get the indexes where Study Duration is null\n",
    "indexList = df_tumor_deltaV[df_tumor_deltaV[\"Study Duration\"] == 0].index\n",
    "# We drop those indexes from the dataframe and create a new one\n",
    "df_tumor_change = df_tumor_deltaV.drop(indexList)\n",
    "# Let's reset index in the new dataframe\n",
    "df_tumor_change.reset_index(drop = True,inplace=True)\n",
    "print('\\033[96m'+'\\033[1m'+\"The shape of the {} dataframe after row deletion is {}:\" \\\n",
    "      .format(\"df_tumor_change\",df_tumor_change.shape)+'\\033[0m')\n",
    "df_tumor_change.head()"
   ]
  },
  {
   "cell_type": "markdown",
   "metadata": {},
   "source": [
    "### Conclusion: There were 12 mice in the study with null study duration"
   ]
  },
  {
   "cell_type": "markdown",
   "metadata": {},
   "source": [
    "### What is the average study duration of each regimen ?"
   ]
  },
  {
   "cell_type": "code",
   "execution_count": 29,
   "metadata": {},
   "outputs": [
    {
     "data": {
      "text/html": [
       "<div>\n",
       "<style scoped>\n",
       "    .dataframe tbody tr th:only-of-type {\n",
       "        vertical-align: middle;\n",
       "    }\n",
       "\n",
       "    .dataframe tbody tr th {\n",
       "        vertical-align: top;\n",
       "    }\n",
       "\n",
       "    .dataframe thead th {\n",
       "        text-align: right;\n",
       "    }\n",
       "</style>\n",
       "<table border=\"1\" class=\"dataframe\">\n",
       "  <thead>\n",
       "    <tr style=\"text-align: right;\">\n",
       "      <th></th>\n",
       "      <th>Drug Regimen</th>\n",
       "      <th>Mean Duration</th>\n",
       "    </tr>\n",
       "  </thead>\n",
       "  <tbody>\n",
       "    <tr>\n",
       "      <th>0</th>\n",
       "      <td>Capomulin</td>\n",
       "      <td>41.00</td>\n",
       "    </tr>\n",
       "    <tr>\n",
       "      <th>1</th>\n",
       "      <td>Ceftamin</td>\n",
       "      <td>36.43</td>\n",
       "    </tr>\n",
       "    <tr>\n",
       "      <th>2</th>\n",
       "      <td>Infubinol</td>\n",
       "      <td>30.60</td>\n",
       "    </tr>\n",
       "    <tr>\n",
       "      <th>3</th>\n",
       "      <td>Ketapril</td>\n",
       "      <td>35.43</td>\n",
       "    </tr>\n",
       "    <tr>\n",
       "      <th>4</th>\n",
       "      <td>Naftisol</td>\n",
       "      <td>35.00</td>\n",
       "    </tr>\n",
       "  </tbody>\n",
       "</table>\n",
       "</div>"
      ],
      "text/plain": [
       "  Drug Regimen  Mean Duration\n",
       "0    Capomulin          41.00\n",
       "1     Ceftamin          36.43\n",
       "2    Infubinol          30.60\n",
       "3     Ketapril          35.43\n",
       "4     Naftisol          35.00"
      ]
     },
     "execution_count": 29,
     "metadata": {},
     "output_type": "execute_result"
    }
   ],
   "source": [
    "# Let's groupby Study Duration column in the Dataframe by each drug regimen\n",
    "grouped_study_dur = df_tumor_change[\"Study Duration\"].groupby(df_tumor_change[\"Drug Regimen\"]) # Create a GroupBy object\n",
    "# Let's create a dataframe with the average tumor volume change for each drug regimen\n",
    "drug_duration = round(grouped_study_dur.mean(),2).to_frame(\"Mean Duration\").reset_index()\n",
    "drug_duration.head() # Display the dataframe"
   ]
  },
  {
   "cell_type": "code",
   "execution_count": 30,
   "metadata": {},
   "outputs": [
    {
     "data": {
      "image/png": "[encoded data removed]",
      "text/plain": [
       "<Figure size 720x576 with 1 Axes>"
      ]
     },
     "metadata": {
      "needs_background": "light"
     },
     "output_type": "display_data"
    }
   ],
   "source": [
    "import matplotlib.pyplot as plt\n",
    "import matplotlib.colors as mcolors\n",
    "import numpy as np\n",
    "# Create a font library\n",
    "titlefont = {\"fontname\":\"Times New Roman\"}\n",
    "labelfont = {\"fontname\":\"Arial\"}\n",
    "# Define the figure size\n",
    "fig = plt.figure(figsize=(10,8))\n",
    "# Define a color list\n",
    "clist = [(0,\"red\"),(0.125,\"red\"),(0.25,\"orange\"),(0.5,\"green\"),(0.7,\"green\"),(0.75,\"blue\"),(1,\"black\")]\n",
    "rvb = mcolors.LinearSegmentedColormap.from_list(\"\",clist)\n",
    "# Define x_axis for the plot\n",
    "x_axis = np.arange(len(drug_duration[\"Drug Regimen\"]))\n",
    "# Define tick locations and place the x_ticks\n",
    "tick_locations = [value for value in x_axis]\n",
    "plt.xticks(tick_locations,drug_duration[\"Drug Regimen\"],rotation=90,fontsize=14,**labelfont)\n",
    "plt.yticks(fontsize=14)\n",
    "# Sets the x limits of the current chart\n",
    "plt.xlim(-0.75, len(x_axis)-0.25)\n",
    "# Sets the y limits of the current chart\n",
    "plt.ylim(10, max(drug_duration[\"Mean Duration\"])+5)\n",
    "# Give our chart x & y axis labels and a title\n",
    "plt.title(\"Average Study Duration for each Drug Regimen \",fontsize=22,**titlefont)\n",
    "plt.xlabel(\"Drug Regimen\",fontsize = 16,**labelfont)\n",
    "plt.ylabel(\"Mean Duration\",fontsize = 16,**labelfont)\n",
    "# We apply align=\"center\" to ensure our bars line up with our tick marks\n",
    "plt.bar(x_axis, drug_duration[\"Mean Duration\"],width = 0.7,\\\n",
    "        color= rvb(x_axis/len(drug_duration[\"Drug Regimen\"])),alpha=0.5, align=\"center\")\n",
    "for index,value in enumerate(drug_duration[\"Mean Duration\"]):\n",
    "    # format value to fit inside the bar\n",
    "    label = round(value,1)\n",
    "    # annotate text within each bar\n",
    "    plt.annotate(label,xy=(index-0.25,value+1.05),color = 'blue',fontsize=14,**labelfont)\n",
    "# Ensure that the x_labels show in the plot\n",
    "plt.tight_layout()\n",
    "plt.show() # Display the plot# Define the figure size"
   ]
  },
  {
   "cell_type": "markdown",
   "metadata": {},
   "source": [
    "### What is the average tumor volume change of each regimen ?"
   ]
  },
  {
   "cell_type": "code",
   "execution_count": 31,
   "metadata": {},
   "outputs": [
    {
     "data": {
      "text/html": [
       "<div>\n",
       "<style scoped>\n",
       "    .dataframe tbody tr th:only-of-type {\n",
       "        vertical-align: middle;\n",
       "    }\n",
       "\n",
       "    .dataframe tbody tr th {\n",
       "        vertical-align: top;\n",
       "    }\n",
       "\n",
       "    .dataframe thead th {\n",
       "        text-align: right;\n",
       "    }\n",
       "</style>\n",
       "<table border=\"1\" class=\"dataframe\">\n",
       "  <thead>\n",
       "    <tr style=\"text-align: right;\">\n",
       "      <th></th>\n",
       "      <th>Drug Regimen</th>\n",
       "      <th>Mean Vol Change</th>\n",
       "    </tr>\n",
       "  </thead>\n",
       "  <tbody>\n",
       "    <tr>\n",
       "      <th>0</th>\n",
       "      <td>Capomulin</td>\n",
       "      <td>8.332</td>\n",
       "    </tr>\n",
       "    <tr>\n",
       "      <th>1</th>\n",
       "      <td>Ceftamin</td>\n",
       "      <td>-15.183</td>\n",
       "    </tr>\n",
       "    <tr>\n",
       "      <th>2</th>\n",
       "      <td>Infubinol</td>\n",
       "      <td>-13.178</td>\n",
       "    </tr>\n",
       "    <tr>\n",
       "      <th>3</th>\n",
       "      <td>Ketapril</td>\n",
       "      <td>-19.355</td>\n",
       "    </tr>\n",
       "    <tr>\n",
       "      <th>4</th>\n",
       "      <td>Naftisol</td>\n",
       "      <td>-17.615</td>\n",
       "    </tr>\n",
       "  </tbody>\n",
       "</table>\n",
       "</div>"
      ],
      "text/plain": [
       "  Drug Regimen  Mean Vol Change\n",
       "0    Capomulin            8.332\n",
       "1     Ceftamin          -15.183\n",
       "2    Infubinol          -13.178\n",
       "3     Ketapril          -19.355\n",
       "4     Naftisol          -17.615"
      ]
     },
     "execution_count": 31,
     "metadata": {},
     "output_type": "execute_result"
    }
   ],
   "source": [
    "# Let's groupby Tumor volume change column in the Dataframe by each drug regimen\n",
    "grouped_tumor_vol = df_tumor_change[\"Tumor_vol_change\"].groupby(df_tumor_change[\"Drug Regimen\"]) # Create a GroupBy object\n",
    "# Let's create a dataframe with the average tumor volume change for each drug regimen\n",
    "drug_tumor = round(grouped_tumor_vol.mean(),3).to_frame(\"Mean Vol Change\").reset_index()\n",
    "drug_tumor.head() # Display the dataframe"
   ]
  },
  {
   "cell_type": "markdown",
   "metadata": {},
   "source": [
    "### Let's visualize the average tumor volume change"
   ]
  },
  {
   "cell_type": "code",
   "execution_count": 32,
   "metadata": {},
   "outputs": [
    {
     "data": {
      "image/png": "[encoded data removed]",
      "text/plain": [
       "<Figure size 720x576 with 1 Axes>"
      ]
     },
     "metadata": {
      "needs_background": "light"
     },
     "output_type": "display_data"
    }
   ],
   "source": [
    "import matplotlib.pyplot as plt\n",
    "import matplotlib.colors as mcolors\n",
    "import numpy as np\n",
    "# Create a font library\n",
    "titlefont = {\"fontname\":\"Times New Roman\"}\n",
    "labelfont = {\"fontname\":\"Arial\"}\n",
    "# Define the figure size\n",
    "fig = plt.figure(figsize=(10,8))\n",
    "# Define a color list\n",
    "clist = [(0,\"red\"),(0.125,\"red\"),(0.25,\"orange\"),(0.5,\"green\"),(0.7,\"green\"),(0.75,\"blue\"),(1,\"black\")]\n",
    "rvb = mcolors.LinearSegmentedColormap.from_list(\"\",clist)\n",
    "# Define x_axis for the plot\n",
    "x_axis = np.arange(len(drug_tumor[\"Drug Regimen\"]))\n",
    "# Define tick locations and place the x_ticks\n",
    "tick_locations = [value for value in x_axis]\n",
    "plt.xticks(tick_locations,drug_tumor[\"Drug Regimen\"],rotation=90,fontsize=14,**labelfont)\n",
    "plt.yticks(fontsize=14)\n",
    "# Sets the x limits of the current chart\n",
    "plt.xlim(-0.75, len(x_axis)-0.25)\n",
    "# Sets the y limits of the current chart\n",
    "plt.ylim(min(drug_tumor[\"Mean Vol Change\"])-2, max(drug_tumor[\"Mean Vol Change\"])+1)\n",
    "# Display the horizontal x-axis \n",
    "plt.hlines(0,-0.75,len(x_axis),colors=\"red\",linestyles=\"solid\",linewidth=1)\n",
    "# Give our chart x & y-axis labels and a title\n",
    "plt.title(\"Average Change in Tumor Volume for each Drug Regimen \",fontsize=22,**titlefont)\n",
    "plt.xlabel(\"Drug Regimen\",fontsize = 16,**labelfont)\n",
    "plt.ylabel(\"Mean volume change (mm3)\",fontsize = 16,**labelfont)\n",
    "# We apply align=\"center\" to ensure our bars line up with our tick marks\n",
    "plt.bar(x_axis, drug_tumor[\"Mean Vol Change\"],width = 0.7,\\\n",
    "        color= rvb(x_axis/len(drug_tumor[\"Drug Regimen\"])),alpha=0.5, align=\"center\")\n",
    "for index,value in enumerate(drug_tumor[\"Mean Vol Change\"]):\n",
    "    # format value to fit inside the bar\n",
    "    label = round(value,1)\n",
    "    # annotate text within each bar\n",
    "    plt.annotate(label,xy=(index-0.25,value-1.2),color = 'blue',fontsize=14,**labelfont)\n",
    "# Ensure that the x_labels show in the plot\n",
    "plt.tight_layout()\n",
    "plt.show() # Display the plot"
   ]
  },
  {
   "cell_type": "markdown",
   "metadata": {},
   "source": [
    "### Each Drug Regimen ran for different time durations, to compare we need to standardize the duration\n",
    "#### In the combined dataframe we estimate the mean volume change for each Drug Regimen for time duration = 25"
   ]
  },
  {
   "cell_type": "code",
   "execution_count": 33,
   "metadata": {},
   "outputs": [
    {
     "data": {
      "text/html": [
       "<div>\n",
       "<style scoped>\n",
       "    .dataframe tbody tr th:only-of-type {\n",
       "        vertical-align: middle;\n",
       "    }\n",
       "\n",
       "    .dataframe tbody tr th {\n",
       "        vertical-align: top;\n",
       "    }\n",
       "\n",
       "    .dataframe thead th {\n",
       "        text-align: right;\n",
       "    }\n",
       "</style>\n",
       "<table border=\"1\" class=\"dataframe\">\n",
       "  <thead>\n",
       "    <tr style=\"text-align: right;\">\n",
       "      <th></th>\n",
       "      <th>Drug Regimen</th>\n",
       "      <th>Mean Duration</th>\n",
       "      <th>Mean Vol Change</th>\n",
       "      <th>Rate of Change</th>\n",
       "      <th>Est Vol Change</th>\n",
       "    </tr>\n",
       "  </thead>\n",
       "  <tbody>\n",
       "    <tr>\n",
       "      <th>0</th>\n",
       "      <td>Capomulin</td>\n",
       "      <td>41.00</td>\n",
       "      <td>8.332</td>\n",
       "      <td>0.203</td>\n",
       "      <td>5.075</td>\n",
       "    </tr>\n",
       "    <tr>\n",
       "      <th>1</th>\n",
       "      <td>Ceftamin</td>\n",
       "      <td>36.43</td>\n",
       "      <td>-15.183</td>\n",
       "      <td>-0.417</td>\n",
       "      <td>-10.425</td>\n",
       "    </tr>\n",
       "    <tr>\n",
       "      <th>2</th>\n",
       "      <td>Infubinol</td>\n",
       "      <td>30.60</td>\n",
       "      <td>-13.178</td>\n",
       "      <td>-0.431</td>\n",
       "      <td>-10.775</td>\n",
       "    </tr>\n",
       "    <tr>\n",
       "      <th>3</th>\n",
       "      <td>Ketapril</td>\n",
       "      <td>35.43</td>\n",
       "      <td>-19.355</td>\n",
       "      <td>-0.546</td>\n",
       "      <td>-13.650</td>\n",
       "    </tr>\n",
       "    <tr>\n",
       "      <th>4</th>\n",
       "      <td>Naftisol</td>\n",
       "      <td>35.00</td>\n",
       "      <td>-17.615</td>\n",
       "      <td>-0.503</td>\n",
       "      <td>-12.575</td>\n",
       "    </tr>\n",
       "    <tr>\n",
       "      <th>5</th>\n",
       "      <td>Placebo</td>\n",
       "      <td>32.50</td>\n",
       "      <td>-16.155</td>\n",
       "      <td>-0.497</td>\n",
       "      <td>-12.425</td>\n",
       "    </tr>\n",
       "    <tr>\n",
       "      <th>6</th>\n",
       "      <td>Propriva</td>\n",
       "      <td>27.29</td>\n",
       "      <td>-12.226</td>\n",
       "      <td>-0.448</td>\n",
       "      <td>-11.200</td>\n",
       "    </tr>\n",
       "    <tr>\n",
       "      <th>7</th>\n",
       "      <td>Ramicane</td>\n",
       "      <td>40.60</td>\n",
       "      <td>8.809</td>\n",
       "      <td>0.217</td>\n",
       "      <td>5.425</td>\n",
       "    </tr>\n",
       "    <tr>\n",
       "      <th>8</th>\n",
       "      <td>Stelasyn</td>\n",
       "      <td>34.13</td>\n",
       "      <td>-16.697</td>\n",
       "      <td>-0.489</td>\n",
       "      <td>-12.225</td>\n",
       "    </tr>\n",
       "    <tr>\n",
       "      <th>9</th>\n",
       "      <td>Zoniferol</td>\n",
       "      <td>32.71</td>\n",
       "      <td>-14.772</td>\n",
       "      <td>-0.452</td>\n",
       "      <td>-11.300</td>\n",
       "    </tr>\n",
       "  </tbody>\n",
       "</table>\n",
       "</div>"
      ],
      "text/plain": [
       "  Drug Regimen  Mean Duration  Mean Vol Change  Rate of Change  Est Vol Change\n",
       "0    Capomulin          41.00            8.332           0.203           5.075\n",
       "1     Ceftamin          36.43          -15.183          -0.417         -10.425\n",
       "2    Infubinol          30.60          -13.178          -0.431         -10.775\n",
       "3     Ketapril          35.43          -19.355          -0.546         -13.650\n",
       "4     Naftisol          35.00          -17.615          -0.503         -12.575\n",
       "5      Placebo          32.50          -16.155          -0.497         -12.425\n",
       "6     Propriva          27.29          -12.226          -0.448         -11.200\n",
       "7     Ramicane          40.60            8.809           0.217           5.425\n",
       "8     Stelasyn          34.13          -16.697          -0.489         -12.225\n",
       "9    Zoniferol          32.71          -14.772          -0.452         -11.300"
      ]
     },
     "execution_count": 33,
     "metadata": {},
     "output_type": "execute_result"
    }
   ],
   "source": [
    "# Combine both average study duration and average tumor volume change into a single dataframe\n",
    "df_time_vol = pd.merge(drug_duration, drug_tumor, how=\"left\", on=\"Drug Regimen\")\n",
    "# Let's calculate the rate of change for each drug regimen and add it as a column in the dataframe\n",
    "df_time_vol[\"Rate of Change\"] = round((df_time_vol[\"Mean Vol Change\"]/df_time_vol[\"Mean Duration\"]),3)\n",
    "# Let's estimate the volume change for duration = 25 for all regimens\n",
    "df_time_vol[\"Est Vol Change\"] = round((df_time_vol[\"Rate of Change\"]*25),3)\n",
    "df_time_vol # Display the combined dataframe"
   ]
  },
  {
   "cell_type": "code",
   "execution_count": 34,
   "metadata": {},
   "outputs": [
    {
     "data": {
      "text/html": [
       "<div>\n",
       "<style scoped>\n",
       "    .dataframe tbody tr th:only-of-type {\n",
       "        vertical-align: middle;\n",
       "    }\n",
       "\n",
       "    .dataframe tbody tr th {\n",
       "        vertical-align: top;\n",
       "    }\n",
       "\n",
       "    .dataframe thead th {\n",
       "        text-align: right;\n",
       "    }\n",
       "</style>\n",
       "<table border=\"1\" class=\"dataframe\">\n",
       "  <thead>\n",
       "    <tr style=\"text-align: right;\">\n",
       "      <th></th>\n",
       "      <th>Drug Regimen</th>\n",
       "      <th>Mean Duration</th>\n",
       "      <th>Mean Vol Change</th>\n",
       "      <th>Rate of Change</th>\n",
       "      <th>Est Vol Change</th>\n",
       "    </tr>\n",
       "  </thead>\n",
       "  <tbody>\n",
       "    <tr>\n",
       "      <th>0</th>\n",
       "      <td>Ramicane</td>\n",
       "      <td>40.60</td>\n",
       "      <td>8.809</td>\n",
       "      <td>0.217</td>\n",
       "      <td>5.425</td>\n",
       "    </tr>\n",
       "    <tr>\n",
       "      <th>1</th>\n",
       "      <td>Capomulin</td>\n",
       "      <td>41.00</td>\n",
       "      <td>8.332</td>\n",
       "      <td>0.203</td>\n",
       "      <td>5.075</td>\n",
       "    </tr>\n",
       "    <tr>\n",
       "      <th>2</th>\n",
       "      <td>Ceftamin</td>\n",
       "      <td>36.43</td>\n",
       "      <td>-15.183</td>\n",
       "      <td>-0.417</td>\n",
       "      <td>-10.425</td>\n",
       "    </tr>\n",
       "    <tr>\n",
       "      <th>3</th>\n",
       "      <td>Infubinol</td>\n",
       "      <td>30.60</td>\n",
       "      <td>-13.178</td>\n",
       "      <td>-0.431</td>\n",
       "      <td>-10.775</td>\n",
       "    </tr>\n",
       "    <tr>\n",
       "      <th>4</th>\n",
       "      <td>Propriva</td>\n",
       "      <td>27.29</td>\n",
       "      <td>-12.226</td>\n",
       "      <td>-0.448</td>\n",
       "      <td>-11.200</td>\n",
       "    </tr>\n",
       "  </tbody>\n",
       "</table>\n",
       "</div>"
      ],
      "text/plain": [
       "  Drug Regimen  Mean Duration  Mean Vol Change  Rate of Change  Est Vol Change\n",
       "0     Ramicane          40.60            8.809           0.217           5.425\n",
       "1    Capomulin          41.00            8.332           0.203           5.075\n",
       "2     Ceftamin          36.43          -15.183          -0.417         -10.425\n",
       "3    Infubinol          30.60          -13.178          -0.431         -10.775\n",
       "4     Propriva          27.29          -12.226          -0.448         -11.200"
      ]
     },
     "execution_count": 34,
     "metadata": {},
     "output_type": "execute_result"
    }
   ],
   "source": [
    "# Let's sort the dataframe to find the top most Drug Regimens\n",
    "drug_tumor_sorted = df_time_vol.sort_values(by=\"Est Vol Change\",ascending=False)\n",
    "# Let's reset index in the new dataframe\n",
    "drug_tumor_sorted.reset_index(drop = True, inplace=True)\n",
    "drug_tumor_sorted.head()"
   ]
  },
  {
   "cell_type": "markdown",
   "metadata": {},
   "source": [
    "### Topmost treatment regimens based on mean decrease in tumor volume are: \n",
    "## <span style=\"color:blue\"> Ramicane, Capomulin, Ceftamin and Infubinol</span>"
   ]
  },
  {
   "cell_type": "markdown",
   "metadata": {},
   "source": [
    "## Calculating the final tumor volume of each mouse across these four treatment regimens"
   ]
  },
  {
   "cell_type": "code",
   "execution_count": 35,
   "metadata": {},
   "outputs": [
    {
     "name": "stdout",
     "output_type": "stream",
     "text": [
      "\u001b[96m\u001b[1mThe shape of the top 4 regimen dataframe df_top_four is:(100, 4)\u001b[0m\n"
     ]
    },
    {
     "data": {
      "text/html": [
       "<div>\n",
       "<style scoped>\n",
       "    .dataframe tbody tr th:only-of-type {\n",
       "        vertical-align: middle;\n",
       "    }\n",
       "\n",
       "    .dataframe tbody tr th {\n",
       "        vertical-align: top;\n",
       "    }\n",
       "\n",
       "    .dataframe thead th {\n",
       "        text-align: right;\n",
       "    }\n",
       "</style>\n",
       "<table border=\"1\" class=\"dataframe\">\n",
       "  <thead>\n",
       "    <tr style=\"text-align: right;\">\n",
       "      <th></th>\n",
       "      <th>Mouse ID</th>\n",
       "      <th>End_time</th>\n",
       "      <th>End_tumor_vol</th>\n",
       "      <th>Drug Regimen</th>\n",
       "    </tr>\n",
       "  </thead>\n",
       "  <tbody>\n",
       "    <tr>\n",
       "      <th>0</th>\n",
       "      <td>b128</td>\n",
       "      <td>45</td>\n",
       "      <td>38.982878</td>\n",
       "      <td>Capomulin</td>\n",
       "    </tr>\n",
       "    <tr>\n",
       "      <th>1</th>\n",
       "      <td>r554</td>\n",
       "      <td>45</td>\n",
       "      <td>32.377357</td>\n",
       "      <td>Capomulin</td>\n",
       "    </tr>\n",
       "    <tr>\n",
       "      <th>2</th>\n",
       "      <td>s185</td>\n",
       "      <td>45</td>\n",
       "      <td>23.343598</td>\n",
       "      <td>Capomulin</td>\n",
       "    </tr>\n",
       "    <tr>\n",
       "      <th>3</th>\n",
       "      <td>b742</td>\n",
       "      <td>45</td>\n",
       "      <td>38.939633</td>\n",
       "      <td>Capomulin</td>\n",
       "    </tr>\n",
       "    <tr>\n",
       "      <th>4</th>\n",
       "      <td>x401</td>\n",
       "      <td>45</td>\n",
       "      <td>28.484033</td>\n",
       "      <td>Capomulin</td>\n",
       "    </tr>\n",
       "  </tbody>\n",
       "</table>\n",
       "</div>"
      ],
      "text/plain": [
       "  Mouse ID  End_time  End_tumor_vol Drug Regimen\n",
       "0     b128        45      38.982878    Capomulin\n",
       "1     r554        45      32.377357    Capomulin\n",
       "2     s185        45      23.343598    Capomulin\n",
       "3     b742        45      38.939633    Capomulin\n",
       "4     x401        45      28.484033    Capomulin"
      ]
     },
     "execution_count": 35,
     "metadata": {},
     "output_type": "execute_result"
    }
   ],
   "source": [
    "# Let's create a list of 4 best treatment regimens\n",
    "top_regimen_list = [\"Ramicane\",\"Capomulin\",\"Infubinol\",\"Ceftamin\"]\n",
    "# We select the rows with top 4 promising treatments\n",
    "df_best_select = df_treatment_end[df_treatment_end[\"Drug Regimen\"].isin(top_regimen_list)]\n",
    "# Let's sort the dataframe to find the top most Drug Regimens\n",
    "df_top_four = df_best_select.sort_values(by=\"Drug Regimen\",ascending=True)\n",
    "# Let's reset index in the new dataframe\n",
    "df_top_four.reset_index(drop = True, inplace=True)\n",
    "print('\\033[96m'+'\\033[1m'+\"The shape of the top 4 regimen dataframe {} is:{}\" \\\n",
    "      .format(\"df_top_four\",df_top_four.shape)+'\\033[0m')\n",
    "df_top_four.head()"
   ]
  },
  {
   "cell_type": "code",
   "execution_count": 36,
   "metadata": {},
   "outputs": [
    {
     "data": {
      "text/html": [
       "<div>\n",
       "<style scoped>\n",
       "    .dataframe tbody tr th:only-of-type {\n",
       "        vertical-align: middle;\n",
       "    }\n",
       "\n",
       "    .dataframe tbody tr th {\n",
       "        vertical-align: top;\n",
       "    }\n",
       "\n",
       "    .dataframe thead th {\n",
       "        text-align: right;\n",
       "    }\n",
       "</style>\n",
       "<table border=\"1\" class=\"dataframe\">\n",
       "  <thead>\n",
       "    <tr style=\"text-align: right;\">\n",
       "      <th></th>\n",
       "      <th>Mean</th>\n",
       "      <th>Median</th>\n",
       "      <th>Lower Quartile</th>\n",
       "      <th>Upper Quartile</th>\n",
       "      <th>IQR</th>\n",
       "      <th>Upper Bound</th>\n",
       "      <th>Lower Bound</th>\n",
       "    </tr>\n",
       "    <tr>\n",
       "      <th>Drug Regimen</th>\n",
       "      <th></th>\n",
       "      <th></th>\n",
       "      <th></th>\n",
       "      <th></th>\n",
       "      <th></th>\n",
       "      <th></th>\n",
       "      <th></th>\n",
       "    </tr>\n",
       "  </thead>\n",
       "  <tbody>\n",
       "    <tr>\n",
       "      <th>Capomulin</th>\n",
       "      <td>36.67</td>\n",
       "      <td>38.13</td>\n",
       "      <td>32.38</td>\n",
       "      <td>40.16</td>\n",
       "      <td>7.78</td>\n",
       "      <td>51.83</td>\n",
       "      <td>20.71</td>\n",
       "    </tr>\n",
       "    <tr>\n",
       "      <th>Ceftamin</th>\n",
       "      <td>57.75</td>\n",
       "      <td>59.85</td>\n",
       "      <td>48.72</td>\n",
       "      <td>64.30</td>\n",
       "      <td>15.58</td>\n",
       "      <td>87.67</td>\n",
       "      <td>25.35</td>\n",
       "    </tr>\n",
       "    <tr>\n",
       "      <th>Infubinol</th>\n",
       "      <td>58.18</td>\n",
       "      <td>60.17</td>\n",
       "      <td>54.05</td>\n",
       "      <td>65.53</td>\n",
       "      <td>11.48</td>\n",
       "      <td>82.75</td>\n",
       "      <td>36.83</td>\n",
       "    </tr>\n",
       "    <tr>\n",
       "      <th>Ramicane</th>\n",
       "      <td>36.19</td>\n",
       "      <td>36.56</td>\n",
       "      <td>31.56</td>\n",
       "      <td>40.66</td>\n",
       "      <td>9.10</td>\n",
       "      <td>54.31</td>\n",
       "      <td>17.91</td>\n",
       "    </tr>\n",
       "  </tbody>\n",
       "</table>\n",
       "</div>"
      ],
      "text/plain": [
       "               Mean  Median  Lower Quartile  Upper Quartile    IQR  \\\n",
       "Drug Regimen                                                         \n",
       "Capomulin     36.67   38.13           32.38           40.16   7.78   \n",
       "Ceftamin      57.75   59.85           48.72           64.30  15.58   \n",
       "Infubinol     58.18   60.17           54.05           65.53  11.48   \n",
       "Ramicane      36.19   36.56           31.56           40.66   9.10   \n",
       "\n",
       "              Upper Bound  Lower Bound  \n",
       "Drug Regimen                            \n",
       "Capomulin           51.83        20.71  \n",
       "Ceftamin            87.67        25.35  \n",
       "Infubinol           82.75        36.83  \n",
       "Ramicane            54.31        17.91  "
      ]
     },
     "execution_count": 36,
     "metadata": {},
     "output_type": "execute_result"
    }
   ],
   "source": [
    "# Let's groupby End Tumor Volume in the Dataframe by each Drug Regimen\n",
    "grouped_regimen = df_top_four[\"End_tumor_vol\"].groupby(df_top_four[\"Drug Regimen\"]) # Create a GroupBy object\n",
    "# Let's calculate the mean\n",
    "regimen_mean = round(grouped_regimen.mean(),2)\n",
    "# Let's calculate the lower quartile\n",
    "regimen_lowerq = round(grouped_regimen.quantile(.25),2)\n",
    "# Let's calculate the median\n",
    "regimen_median = round(grouped_regimen.quantile(.5),2)\n",
    "# Let's calculate the upper quartile\n",
    "regimen_upperq = round(grouped_regimen.quantile(.75),2)\n",
    "# Let's create a new DataFrame\n",
    "regimen_statistics = pd.DataFrame({\"Mean\": regimen_mean,\\\n",
    "                                   \"Median\": regimen_median,\\\n",
    "                                   \"Lower Quartile\":regimen_lowerq,\\\n",
    "                                   \"Upper Quartile\":regimen_upperq})\n",
    "# Let's create a new column for inter-quartile range (IQR)\n",
    "regimen_statistics[\"IQR\"] = regimen_statistics[\"Upper Quartile\"]-regimen_statistics[\"Lower Quartile\"]\n",
    "# Let's create a new column for upper_bound = upperq + (1.5*iqr) \n",
    "regimen_statistics[\"Upper Bound\"] = regimen_statistics[\"Upper Quartile\"] + (1.5*regimen_statistics[\"IQR\"])\n",
    "# Let's create a new column for lower_bound = lowerq - (1.5*iqr) \n",
    "regimen_statistics[\"Lower Bound\"] = regimen_statistics[\"Lower Quartile\"] - (1.5*regimen_statistics[\"IQR\"])\n",
    "regimen_statistics"
   ]
  },
  {
   "cell_type": "markdown",
   "metadata": {},
   "source": [
    "### Determining potential Outliers in the top four Drug Regimens"
   ]
  },
  {
   "cell_type": "code",
   "execution_count": 37,
   "metadata": {},
   "outputs": [
    {
     "name": "stdout",
     "output_type": "stream",
     "text": [
      "\u001b[94m\u001b[1mNumber of Outliers in Drug Regimen Capomulin is:0\u001b[0m\n"
     ]
    }
   ],
   "source": [
    "# We select the Drug Regimen \"Capomulin\" and store it in a dataframe\n",
    "df_Capomulin = df_top_four[df_top_four[\"Drug Regimen\"].isin([\"Capomulin\"])]\n",
    "# Checking for data point(s) > Upper Bound or datapoint(s) < Lower Bound\n",
    "df_Capomulin_outliers = df_Capomulin.loc[(df_Capomulin[\"End_tumor_vol\"] > 51.83) | \\\n",
    "                                         (df_Capomulin[\"End_tumor_vol\"] < 20.71), :]\n",
    "print('\\033[94m'+'\\033[1m'+\"Number of Outliers in Drug Regimen {} is:{}\" \\\n",
    "      .format(\"Capomulin\",df_Capomulin_outliers.shape[0])+'\\033[0m')"
   ]
  },
  {
   "cell_type": "code",
   "execution_count": 38,
   "metadata": {},
   "outputs": [
    {
     "name": "stdout",
     "output_type": "stream",
     "text": [
      "\u001b[92m\u001b[1mNumber of Outliers in Drug Regimen Ceftamin is:0\u001b[0m\n"
     ]
    }
   ],
   "source": [
    "# We select the Drug Regimen \"Ceftamin\" and store it in a dataframe\n",
    "df_Ceftamin = df_top_four[df_top_four[\"Drug Regimen\"].isin([\"Ceftamin\"])]\n",
    "# Checking for data point(s) > Upper Bound or datapoint(s) < Lower Bound\n",
    "df_Ceftamin_outliers = df_Ceftamin.loc[(df_Ceftamin[\"End_tumor_vol\"] > 87.67) | \\\n",
    "                                       (df_Ceftamin[\"End_tumor_vol\"] < 25.35), :]\n",
    "print('\\033[92m'+'\\033[1m'+\"Number of Outliers in Drug Regimen {} is:{}\" \\\n",
    "      .format(\"Ceftamin\",df_Ceftamin_outliers.shape[0])+'\\033[0m')"
   ]
  },
  {
   "cell_type": "code",
   "execution_count": 39,
   "metadata": {},
   "outputs": [
    {
     "name": "stdout",
     "output_type": "stream",
     "text": [
      "\u001b[95m\u001b[1mNumber of Outliers in Drug Regimen Infubinol is:1\u001b[0m\n"
     ]
    }
   ],
   "source": [
    "# We select the Drug Regimen \"Infubinol\" and store it in a dataframe\n",
    "df_Infubinol = df_top_four[df_top_four[\"Drug Regimen\"].isin([\"Infubinol\"])]\n",
    "# Checking for data point(s) > Upper Bound or datapoint(s) < Lower Bound\n",
    "df_Infubinol_outliers = df_Infubinol.loc[(df_Infubinol[\"End_tumor_vol\"] > 82.75) | \\\n",
    "                                         (df_Infubinol[\"End_tumor_vol\"] < 36.83), :]\n",
    "print('\\033[95m'+'\\033[1m'+\"Number of Outliers in Drug Regimen {} is:{}\" \\\n",
    "      .format(\"Infubinol\",df_Infubinol_outliers.shape[0])+'\\033[0m')"
   ]
  },
  {
   "cell_type": "code",
   "execution_count": 40,
   "metadata": {},
   "outputs": [
    {
     "name": "stdout",
     "output_type": "stream",
     "text": [
      "\u001b[96m\u001b[1mNumber of Outliers in Drug Regimen Ramicane is:0\u001b[0m\n"
     ]
    }
   ],
   "source": [
    "# We select the Drug Regimen \"Ramicane\" and store it in a dataframe\n",
    "df_Ramicane = df_top_four[df_top_four[\"Drug Regimen\"].isin([\"Ramicane\"])]\n",
    "# Checking for data point(s) > Upper Bound or datapoint(s) < Lower Bound\n",
    "df_Ramicane_outliers = df_Ramicane.loc[(df_Ramicane[\"End_tumor_vol\"] > 54.31) | \\\n",
    "                                       (df_Ramicane[\"End_tumor_vol\"] < 17.91), :]\n",
    "print('\\033[96m'+'\\033[1m'+\"Number of Outliers in Drug Regimen {} is:{}\" \\\n",
    "      .format(\"Ramicane\",df_Ramicane_outliers.shape[0])+'\\033[0m')"
   ]
  },
  {
   "cell_type": "markdown",
   "metadata": {},
   "source": [
    "### Conclusion: <span style=\"color:blue\"> Drug Regimen Infubinol has one outlier others have none </span>"
   ]
  },
  {
   "cell_type": "markdown",
   "metadata": {},
   "source": [
    "## Generate a box plot of the final tumor volume of each mouse across four regimens of interest"
   ]
  },
  {
   "cell_type": "code",
   "execution_count": 41,
   "metadata": {},
   "outputs": [
    {
     "data": {
      "image/png": "[encoded data removed]",
      "text/plain": [
       "<Figure size 720x576 with 1 Axes>"
      ]
     },
     "metadata": {},
     "output_type": "display_data"
    }
   ],
   "source": [
    "import matplotlib.pyplot as plt\n",
    "import seaborn as sns\n",
    "# Create a font library\n",
    "titlefont = {\"fontname\":\"Times New Roman\"}\n",
    "labelfont = {\"fontname\":\"Arial\"}\n",
    "# Set the style for seaborn plot\n",
    "sns.set_style(\"darkgrid\")\n",
    "# Set font scale and reduce grid line width\n",
    "sns.set_context(\"poster\",font_scale=0.7, rc={\"grid.linewidth\":2})\n",
    "# Define the figure size\n",
    "fig = plt.figure(figsize=(10,8))\n",
    "# Adjust the display of outlier by setting flierprops\n",
    "flierprops = dict(markerfacecolor=\"r\",markersize=13,linestyle=\"none\")\n",
    "# Create the plot\n",
    "sns.boxplot(x = df_top_four[\"Drug Regimen\"], \\\n",
    "            y = df_top_four[\"End_tumor_vol\"],\\\n",
    "            width = 0.5,\\\n",
    "            palette = \"Set3\",\\\n",
    "            flierprops = flierprops,\\\n",
    "            linewidth = 2\n",
    "           )\n",
    "# Give our chart x & y-axis labels and a title\n",
    "plt.title(\"Box plot of Final Tumor Volume across Drug Regimens \",fontsize=22,**titlefont)\n",
    "plt.xlabel(\"Drug Regimen\",fontsize = 16,**labelfont)\n",
    "plt.ylabel(\"Final Tumor Volume (mm3)\",fontsize = 16,**labelfont)\n",
    "plt.show()"
   ]
  },
  {
   "cell_type": "markdown",
   "metadata": {},
   "source": [
    "# Line and scatter plots"
   ]
  },
  {
   "cell_type": "markdown",
   "metadata": {},
   "source": [
    "### Generate a line plot of time point versus tumor volume for a mouse treated with Capomulin"
   ]
  },
  {
   "cell_type": "code",
   "execution_count": 42,
   "metadata": {},
   "outputs": [
    {
     "name": "stdout",
     "output_type": "stream",
     "text": [
      "\u001b[94m\u001b[1mThe shape of the Capomulin dataframe is:(230, 8)\u001b[0m\n"
     ]
    },
    {
     "data": {
      "text/html": [
       "<div>\n",
       "<style scoped>\n",
       "    .dataframe tbody tr th:only-of-type {\n",
       "        vertical-align: middle;\n",
       "    }\n",
       "\n",
       "    .dataframe tbody tr th {\n",
       "        vertical-align: top;\n",
       "    }\n",
       "\n",
       "    .dataframe thead th {\n",
       "        text-align: right;\n",
       "    }\n",
       "</style>\n",
       "<table border=\"1\" class=\"dataframe\">\n",
       "  <thead>\n",
       "    <tr style=\"text-align: right;\">\n",
       "      <th></th>\n",
       "      <th>Mouse ID</th>\n",
       "      <th>Timepoint</th>\n",
       "      <th>Tumor Volume (mm3)</th>\n",
       "      <th>Metastatic Sites</th>\n",
       "      <th>Drug Regimen</th>\n",
       "      <th>Sex</th>\n",
       "      <th>Age_months</th>\n",
       "      <th>Weight (g)</th>\n",
       "    </tr>\n",
       "  </thead>\n",
       "  <tbody>\n",
       "    <tr>\n",
       "      <th>0</th>\n",
       "      <td>b128</td>\n",
       "      <td>0</td>\n",
       "      <td>45.000000</td>\n",
       "      <td>0</td>\n",
       "      <td>Capomulin</td>\n",
       "      <td>Female</td>\n",
       "      <td>9</td>\n",
       "      <td>22</td>\n",
       "    </tr>\n",
       "    <tr>\n",
       "      <th>1</th>\n",
       "      <td>b128</td>\n",
       "      <td>5</td>\n",
       "      <td>45.651331</td>\n",
       "      <td>0</td>\n",
       "      <td>Capomulin</td>\n",
       "      <td>Female</td>\n",
       "      <td>9</td>\n",
       "      <td>22</td>\n",
       "    </tr>\n",
       "    <tr>\n",
       "      <th>2</th>\n",
       "      <td>b128</td>\n",
       "      <td>10</td>\n",
       "      <td>43.270852</td>\n",
       "      <td>0</td>\n",
       "      <td>Capomulin</td>\n",
       "      <td>Female</td>\n",
       "      <td>9</td>\n",
       "      <td>22</td>\n",
       "    </tr>\n",
       "    <tr>\n",
       "      <th>3</th>\n",
       "      <td>b128</td>\n",
       "      <td>15</td>\n",
       "      <td>43.784893</td>\n",
       "      <td>0</td>\n",
       "      <td>Capomulin</td>\n",
       "      <td>Female</td>\n",
       "      <td>9</td>\n",
       "      <td>22</td>\n",
       "    </tr>\n",
       "    <tr>\n",
       "      <th>4</th>\n",
       "      <td>b128</td>\n",
       "      <td>20</td>\n",
       "      <td>42.731552</td>\n",
       "      <td>0</td>\n",
       "      <td>Capomulin</td>\n",
       "      <td>Female</td>\n",
       "      <td>9</td>\n",
       "      <td>22</td>\n",
       "    </tr>\n",
       "  </tbody>\n",
       "</table>\n",
       "</div>"
      ],
      "text/plain": [
       "  Mouse ID  Timepoint  Tumor Volume (mm3)  Metastatic Sites Drug Regimen  \\\n",
       "0     b128          0           45.000000                 0    Capomulin   \n",
       "1     b128          5           45.651331                 0    Capomulin   \n",
       "2     b128         10           43.270852                 0    Capomulin   \n",
       "3     b128         15           43.784893                 0    Capomulin   \n",
       "4     b128         20           42.731552                 0    Capomulin   \n",
       "\n",
       "      Sex  Age_months  Weight (g)  \n",
       "0  Female           9          22  \n",
       "1  Female           9          22  \n",
       "2  Female           9          22  \n",
       "3  Female           9          22  \n",
       "4  Female           9          22  "
      ]
     },
     "execution_count": 42,
     "metadata": {},
     "output_type": "execute_result"
    }
   ],
   "source": [
    "# Let's select the Drug Regimen \"Capomulin\" and store it's time series in a dataframe\n",
    "df_Capomulin_time = df_combined[df_combined[\"Drug Regimen\"].isin([\"Capomulin\"])]\n",
    "# Let's reset index in the new dataframe\n",
    "df_Capomulin_time.reset_index(drop = True, inplace=True)\n",
    "print('\\033[94m'+'\\033[1m'+\"The shape of the {} dataframe is:{}\" \\\n",
    "      .format(\"Capomulin\",df_Capomulin_time.shape)+'\\033[0m')\n",
    "df_Capomulin_time.head()"
   ]
  },
  {
   "cell_type": "markdown",
   "metadata": {},
   "source": [
    "### Let's select Mouse ID : b128 to generate a line plot of time versus tumor volume"
   ]
  },
  {
   "cell_type": "code",
   "execution_count": 43,
   "metadata": {},
   "outputs": [
    {
     "name": "stdout",
     "output_type": "stream",
     "text": [
      "\u001b[94m\u001b[1mThe shape of the b128 dataframe is:(10, 3)\u001b[0m\n"
     ]
    },
    {
     "data": {
      "text/html": [
       "<div>\n",
       "<style scoped>\n",
       "    .dataframe tbody tr th:only-of-type {\n",
       "        vertical-align: middle;\n",
       "    }\n",
       "\n",
       "    .dataframe tbody tr th {\n",
       "        vertical-align: top;\n",
       "    }\n",
       "\n",
       "    .dataframe thead th {\n",
       "        text-align: right;\n",
       "    }\n",
       "</style>\n",
       "<table border=\"1\" class=\"dataframe\">\n",
       "  <thead>\n",
       "    <tr style=\"text-align: right;\">\n",
       "      <th></th>\n",
       "      <th>Mouse ID</th>\n",
       "      <th>Timepoint</th>\n",
       "      <th>Tumor Volume (mm3)</th>\n",
       "    </tr>\n",
       "  </thead>\n",
       "  <tbody>\n",
       "    <tr>\n",
       "      <th>0</th>\n",
       "      <td>b128</td>\n",
       "      <td>0</td>\n",
       "      <td>45.000000</td>\n",
       "    </tr>\n",
       "    <tr>\n",
       "      <th>1</th>\n",
       "      <td>b128</td>\n",
       "      <td>5</td>\n",
       "      <td>45.651331</td>\n",
       "    </tr>\n",
       "    <tr>\n",
       "      <th>2</th>\n",
       "      <td>b128</td>\n",
       "      <td>10</td>\n",
       "      <td>43.270852</td>\n",
       "    </tr>\n",
       "    <tr>\n",
       "      <th>3</th>\n",
       "      <td>b128</td>\n",
       "      <td>15</td>\n",
       "      <td>43.784893</td>\n",
       "    </tr>\n",
       "    <tr>\n",
       "      <th>4</th>\n",
       "      <td>b128</td>\n",
       "      <td>20</td>\n",
       "      <td>42.731552</td>\n",
       "    </tr>\n",
       "  </tbody>\n",
       "</table>\n",
       "</div>"
      ],
      "text/plain": [
       "  Mouse ID  Timepoint  Tumor Volume (mm3)\n",
       "0     b128          0           45.000000\n",
       "1     b128          5           45.651331\n",
       "2     b128         10           43.270852\n",
       "3     b128         15           43.784893\n",
       "4     b128         20           42.731552"
      ]
     },
     "execution_count": 43,
     "metadata": {},
     "output_type": "execute_result"
    }
   ],
   "source": [
    "# Let's select the Mouse ID : b128 and store it's time series in a dataframe\n",
    "df_b128 = df_Capomulin_time.loc[(df_Capomulin_time[\"Mouse ID\"]==\"b128\"),[\"Mouse ID\",\"Timepoint\",\"Tumor Volume (mm3)\"]]\n",
    "# Let's reset index in the new dataframe\n",
    "df_b128.reset_index(drop = True, inplace=True)\n",
    "print('\\033[94m'+'\\033[1m'+\"The shape of the {} dataframe is:{}\" \\\n",
    "      .format(\"b128\",df_b128.shape)+'\\033[0m')\n",
    "df_b128.head()"
   ]
  },
  {
   "cell_type": "code",
   "execution_count": 44,
   "metadata": {},
   "outputs": [
    {
     "data": {
      "image/png": "[encoded data removed]",
      "text/plain": [
       "<Figure size 720x576 with 1 Axes>"
      ]
     },
     "metadata": {},
     "output_type": "display_data"
    }
   ],
   "source": [
    "import matplotlib.pyplot as plt\n",
    "import seaborn as sns\n",
    "# sns.set()\n",
    "# Create a font library\n",
    "titlefont = {\"fontname\":\"Times New Roman\"}\n",
    "labelfont = {\"fontname\":\"Arial\"}\n",
    "# Set the style for seaborn plot\n",
    "sns.set_style(\"darkgrid\")\n",
    "# Set font scale and reduce grid line width\n",
    "sns.set_context(\"poster\",font_scale=0.7, rc={\"grid.linewidth\":2})\n",
    "# Define the figure size\n",
    "fig = plt.figure(figsize=(10,8))\n",
    "sns.lineplot(x = df_b128[\"Timepoint\"], \\\n",
    "            y = df_b128[\"Tumor Volume (mm3)\"],\\\n",
    "            linestyle = \"solid\", color = \"orange\",\\\n",
    "            linewidth = 3, marker = \"o\", markeredgecolor = \"red\",\\\n",
    "            markeredgewidth = 2)\n",
    "# Display x & y-axis labels and a title for the lineplot\n",
    "plt.title(\"Change in Tumor Volume over time for b128 \",fontsize=24,color=\"black\",**titlefont)\n",
    "plt.xlabel(\"Timepoint\",fontsize = 18,color=\"black\",**labelfont)\n",
    "plt.ylabel(\"Tumor Volume (mm3)\",fontsize = 18,color=\"black\",**labelfont)\n",
    "# Annotate arrow\n",
    "plt.annotate(\"\",xy=(40,39),xytext = (30,44),\\\n",
    "             arrowprops = dict(arrowstyle = \"fancy\",connectionstyle=\"arc3\",color = \"lightgreen\"))\n",
    "# Annotate text\n",
    "plt.annotate(\"Decrease in tumor volume\",xy=(41,39.6),rotation = 292, fontsize=20,\\\n",
    "             va = \"bottom\", ha = \"right\",color = \"green\",**labelfont)\n",
    "plt.show()"
   ]
  },
  {
   "cell_type": "markdown",
   "metadata": {},
   "source": [
    "### Generate a scatter plot of mouse weight versus average tumor volume for the Capomulin regimen"
   ]
  },
  {
   "cell_type": "code",
   "execution_count": 45,
   "metadata": {},
   "outputs": [
    {
     "name": "stdout",
     "output_type": "stream",
     "text": [
      "\u001b[94m\u001b[1mThe shape of the tumor_vs_weigh dataframe is:(9, 2)\u001b[0m\n"
     ]
    },
    {
     "data": {
      "text/html": [
       "<div>\n",
       "<style scoped>\n",
       "    .dataframe tbody tr th:only-of-type {\n",
       "        vertical-align: middle;\n",
       "    }\n",
       "\n",
       "    .dataframe tbody tr th {\n",
       "        vertical-align: top;\n",
       "    }\n",
       "\n",
       "    .dataframe thead th {\n",
       "        text-align: right;\n",
       "    }\n",
       "</style>\n",
       "<table border=\"1\" class=\"dataframe\">\n",
       "  <thead>\n",
       "    <tr style=\"text-align: right;\">\n",
       "      <th></th>\n",
       "      <th>Weight (g)</th>\n",
       "      <th>Mean Vol (mm3)</th>\n",
       "    </tr>\n",
       "  </thead>\n",
       "  <tbody>\n",
       "    <tr>\n",
       "      <th>0</th>\n",
       "      <td>15</td>\n",
       "      <td>36.182</td>\n",
       "    </tr>\n",
       "    <tr>\n",
       "      <th>1</th>\n",
       "      <td>17</td>\n",
       "      <td>37.214</td>\n",
       "    </tr>\n",
       "    <tr>\n",
       "      <th>2</th>\n",
       "      <td>19</td>\n",
       "      <td>41.182</td>\n",
       "    </tr>\n",
       "    <tr>\n",
       "      <th>3</th>\n",
       "      <td>20</td>\n",
       "      <td>39.141</td>\n",
       "    </tr>\n",
       "    <tr>\n",
       "      <th>4</th>\n",
       "      <td>21</td>\n",
       "      <td>42.089</td>\n",
       "    </tr>\n",
       "  </tbody>\n",
       "</table>\n",
       "</div>"
      ],
      "text/plain": [
       "   Weight (g)  Mean Vol (mm3)\n",
       "0          15          36.182\n",
       "1          17          37.214\n",
       "2          19          41.182\n",
       "3          20          39.141\n",
       "4          21          42.089"
      ]
     },
     "execution_count": 45,
     "metadata": {},
     "output_type": "execute_result"
    }
   ],
   "source": [
    "# Let's groupby Tumor volume (mm3) in the df_Capomulin_time Dataframe by each mouse weight\n",
    "grped_tumor_weigh = df_Capomulin_time[\"Tumor Volume (mm3)\"].groupby(df_Capomulin_time[\"Weight (g)\"]) # Create a GroupBy object\n",
    "# Let's create a dataframe with the average tumor volume change for each mouse weight\n",
    "tumor_vs_weigh = round(grped_tumor_weigh.mean(),3).to_frame(\"Mean Vol (mm3)\").reset_index()\n",
    "print('\\033[94m'+'\\033[1m'+\"The shape of the {} dataframe is:{}\" \\\n",
    "      .format(\"tumor_vs_weigh\",tumor_vs_weigh.shape)+'\\033[0m')\n",
    "tumor_vs_weigh.head() # Display the dataframe"
   ]
  },
  {
   "cell_type": "code",
   "execution_count": 46,
   "metadata": {},
   "outputs": [
    {
     "data": {
      "image/png": "[encoded data removed]",
      "text/plain": [
       "<Figure size 720x576 with 1 Axes>"
      ]
     },
     "metadata": {},
     "output_type": "display_data"
    }
   ],
   "source": [
    "import matplotlib.pyplot as plt\n",
    "import matplotlib.cm as cm\n",
    "import numpy as np\n",
    "import seaborn as sns\n",
    "# Set the style for seaborn plot\n",
    "sns.set_style(\"darkgrid\")\n",
    "# Create a font library\n",
    "titlefont = {\"fontname\":\"Times New Roman\"}\n",
    "labelfont = {\"fontname\":\"Arial\"}\n",
    "# Set font scale and reduce grid line width\n",
    "sns.set_context(\"poster\",font_scale=0.8, rc={\"grid.linewidth\":3})\n",
    "# Define the figure size\n",
    "fig = plt.figure(figsize=(10,8))\n",
    "# Make a color map\n",
    "t = np.arange(len(tumor_vs_weigh[\"Weight (g)\"]))\n",
    "# Create a scatter plot\n",
    "plt.scatter(x = tumor_vs_weigh[\"Weight (g)\"],\\\n",
    "            y = tumor_vs_weigh[\"Mean Vol (mm3)\"],\\\n",
    "            edgecolor = \"black\",\\\n",
    "            s = 250,\\\n",
    "            c = t,\\\n",
    "            cmap = \"rainbow\"\\\n",
    "           )\n",
    "# Display x & y-axis labels and a title for the lineplot\n",
    "plt.title(\"Scatter plot of Average Tumor Volume vs. Weight \",color=\"black\",fontsize=24,**titlefont)\n",
    "plt.xlabel(\"Weight (g)\",fontsize = 18,color=\"black\",**labelfont)\n",
    "plt.ylabel(\"Avg. Tumor Volume (mm3)\",fontsize = 18,color=\"black\",**labelfont)\n",
    "plt.tight_layout()\n",
    "plt.show()"
   ]
  },
  {
   "cell_type": "markdown",
   "metadata": {},
   "source": [
    "## Calculate the correlation coefficient and linear regression model for mouse weight and average tumor volume for the Capomulin regimen"
   ]
  },
  {
   "cell_type": "code",
   "execution_count": 47,
   "metadata": {
    "scrolled": false
   },
   "outputs": [
    {
     "name": "stdout",
     "output_type": "stream",
     "text": [
      "\u001b[92m\u001b[1mCorrelation Coefficient (R-squared):0.951\u001b[0m\n",
      "\u001b[94m\u001b[1mp-value (level of statistical significance):8.45e-05\u001b[0m\n",
      "\u001b[96m\u001b[1mStandard error of estimate:0.111\u001b[0m\n"
     ]
    },
    {
     "data": {
      "image/png": "[encoded data removed]",
      "text/plain": [
       "<Figure size 720x576 with 1 Axes>"
      ]
     },
     "metadata": {},
     "output_type": "display_data"
    }
   ],
   "source": [
    "from matplotlib import pyplot as plt\n",
    "from scipy.stats import linregress\n",
    "import numpy as np\n",
    "import seaborn as sns\n",
    "# Set the style for seaborn plot\n",
    "sns.set_style(\"darkgrid\")\n",
    "# Create a font library\n",
    "titlefont = {\"fontname\":\"Times New Roman\"}\n",
    "labelfont = {\"fontname\":\"Arial\"}\n",
    "# Set font scale and reduce grid line width\n",
    "sns.set_context(\"poster\",font_scale=0.8, rc={\"grid.linewidth\":3})\n",
    "# Define the figure size\n",
    "fig = plt.figure(figsize=(10,8))\n",
    "# Make a color map\n",
    "t = np.arange(len(tumor_vs_weigh[\"Weight (g)\"]))\n",
    "# Define x & y data\n",
    "x_data = tumor_vs_weigh[\"Weight (g)\"]\n",
    "y_data = tumor_vs_weigh[\"Mean Vol (mm3)\"]\n",
    "# Let's check pearson coefficient\n",
    "p_corr = st.pearsonr(x_data,y_data)\n",
    "# Linear Regression Model\n",
    "(slope, intercept, rvalue, pvalue, stderr) = linregress(x_data, y_data)\n",
    "# Calculated y_model from the Model\n",
    "y_model = x_data * slope + intercept\n",
    "# Equation of the line from the Linear Regression Model\n",
    "Model_eqn = \"y = \" + str(round(slope,2)) + \"x + \" + str(round(intercept,2))\n",
    "# Create a scatter plot of the data set\n",
    "plt.scatter(x = x_data,\\\n",
    "            y = y_data,\\\n",
    "            edgecolor = \"black\",\\\n",
    "            s = 250,\\\n",
    "            c = t,\\\n",
    "            cmap = \"Set2_r\"\\\n",
    "           )\n",
    "# Plot the Linear regression model\n",
    "plt.plot(x_data,y_model,color=\"blue\",linestyle =\"dashdot\",linewidth=2)\n",
    "# Annotate the equation\n",
    "#plt.annotate(line_eq,(6,10),fontsize=15,color=\"red\")\n",
    "plt.annotate( Model_eqn,xy=(15.75,38),rotation = 37, fontsize = 20,\\\n",
    "             va = \"bottom\", ha = \"left\",color = \"green\",**labelfont)\n",
    "# Display x & y-axis labels and a title for the lineplot\n",
    "plt.title(\"Linear Regression Model (Mouse weight vs. Avg. tumor vol.)\",fontsize=22,color = \"black\",**titlefont)\n",
    "plt.xlabel(\"Weight (g)\",fontsize = 18,color=\"black\",**labelfont)\n",
    "plt.ylabel(\"Avg. Tumor Volume (mm3)\",fontsize = 18,color=\"black\",**labelfont)\n",
    "print('\\033[92m'+'\\033[1m'+\"Correlation Coefficient (R-squared):{}\" \\\n",
    "      .format(round(rvalue,3))+'\\033[0m')\n",
    "print('\\033[94m'+'\\033[1m'+\"p-value (level of statistical significance):{}\" \\\n",
    "      .format(round(pvalue,7))+'\\033[0m')\n",
    "print('\\033[96m'+'\\033[1m'+\"Standard error of estimate:{}\" \\\n",
    "      .format(round(stderr,3))+'\\033[0m')\n",
    "plt.show()"
   ]
  },
  {
   "cell_type": "code",
   "execution_count": null,
   "metadata": {},
   "outputs": [],
   "source": []
  }
 ],
 "metadata": {
  "anaconda-cloud": {},
  "kernelspec": {
   "display_name": "Python 3",
   "language": "python",
   "name": "python3"
  },
  "language_info": {
   "codemirror_mode": {
    "name": "ipython",
    "version": 3
   },
   "file_extension": ".py",
   "mimetype": "text/x-python",
   "name": "python",
   "nbconvert_exporter": "python",
   "pygments_lexer": "ipython3",
   "version": "3.7.6"
  }
 },
 "nbformat": 4,
 "nbformat_minor": 2
}
